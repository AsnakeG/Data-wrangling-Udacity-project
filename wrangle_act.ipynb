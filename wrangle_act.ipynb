{
 "cells": [
  {
   "cell_type": "markdown",
   "metadata": {
    "extensions": {
     "jupyter_dashboards": {
      "version": 1,
      "views": {
       "grid_default": {
        "col": 0,
        "height": 4,
        "hidden": false,
        "row": 0,
        "width": 4
       },
       "report_default": {
        "hidden": false
       }
      }
     }
    }
   },
   "source": [
    "# Project: Wrangling and Analyze Data"
   ]
  },
  {
   "cell_type": "code",
   "execution_count": 3,
   "metadata": {},
   "outputs": [],
   "source": [
    "# importing the necassary libraries \n",
    "import pandas as pd\n",
    "import numpy as np\n",
    "import matplotlib.pyplot as plt\n",
    "import tweepy\n",
    "import json\n",
    "import requests\n",
    "\n",
    "%matplotlib inline"
   ]
  },
  {
   "cell_type": "markdown",
   "metadata": {},
   "source": [
    "## Data Gathering\n",
    "In the cell below, gather **all** three pieces of data for this project and load them in the notebook. **Note:** the methods required to gather each data are different.\n",
    "1. Directly download the WeRateDogs Twitter archive data (twitter_archive_enhanced.csv)"
   ]
  },
  {
   "cell_type": "code",
   "execution_count": 5,
   "metadata": {
    "extensions": {
     "jupyter_dashboards": {
      "version": 1,
      "views": {
       "grid_default": {
        "hidden": true
       },
       "report_default": {
        "hidden": true
       }
      }
     }
    }
   },
   "outputs": [],
   "source": [
    "# reading csv file into dataframe\n",
    "df1 = pd.read_csv(\"twitter-archive-enhanced.csv\")"
   ]
  },
  {
   "cell_type": "code",
   "execution_count": null,
   "metadata": {},
   "outputs": [],
   "source": [
    "df1"
   ]
  },
  {
   "cell_type": "markdown",
   "metadata": {},
   "source": [
    "2. Use the Requests library to download the tweet image prediction (image_predictions.tsv)"
   ]
  },
  {
   "cell_type": "code",
   "execution_count": null,
   "metadata": {},
   "outputs": [],
   "source": [
    "# using request library to download image_prediction\n",
    "url = 'https://d17h27t6h515a5.cloudfront.net/topher/2017/August/599fd2ad_image-predictions/image-predictions.tsv'\n",
    "response = requests.get(url)\n",
    "\n",
    "# saving it to tvs file\n",
    "\n",
    "with open(\"image-predictions.tsv\", mode='wb') as file:\n",
    "    file.write(response.content)"
   ]
  },
  {
   "cell_type": "code",
   "execution_count": 3,
   "metadata": {},
   "outputs": [],
   "source": [
    "# reading the dataframe\n",
    "df2 = pd.read_csv('image-predictions.tsv', sep= '\\t')\n"
   ]
  },
  {
   "cell_type": "code",
   "execution_count": null,
   "metadata": {},
   "outputs": [],
   "source": [
    "df2"
   ]
  },
  {
   "cell_type": "markdown",
   "metadata": {},
   "source": [
    "3. Use the Tweepy library to query additional data via the Twitter API (tweet_json.txt)"
   ]
  },
  {
   "cell_type": "code",
   "execution_count": null,
   "metadata": {},
   "outputs": [],
   "source": [
    "consumer_key = 'xxxxxxxxxxxxxxxxx'\n",
    "consumer_secret = 'xxxxxxxxxxxxxx'\n",
    "access_token = 'xxxxxxxxxxxxxx'\n",
    "access_token_secret = 'xxxxxxxxxxxxx'\n",
    "\n",
    "\n",
    "auth = tweepy.OAuthHandler(consumer_key, consumer_secret)\n",
    "auth.set_access_token(access_token, access_token_secret)\n",
    "\n",
    "api = tweepy.API(auth, wait_on_rate_limit = True)\n",
    "\n",
    "try:\n",
    "    api.verify_credentials()\n",
    "    print(\"Authentication ok\")\n",
    "except:\n",
    "    print(\"error during authentication\")"
   ]
  },
  {
   "cell_type": "code",
   "execution_count": null,
   "metadata": {},
   "outputs": [],
   "source": [
    "# querying twitter account using tweepy API (i get the code from various source such as stackover flow and documentation)\n",
    "\n",
    "username= '@dog_rates'\n",
    "data = []\n",
    "\n",
    "# querying and passing it to dataframe\n",
    "try:\n",
    "    for tweet in tweepy.Cursor(api.user_timeline, screen_name=username).items(3000):\n",
    "        data.append([tweet.id, tweet.retweet_count, tweet.favorite_count])\n",
    "    columns =['tweet_id', 'retweet count', 'favorite count']\n",
    "\n",
    "    tweets_df = pd.DataFrame(data, columns = columns)\n",
    "    \n",
    "\n",
    "# checkig for error using except\n",
    "except BaseException as e:\n",
    "        print('status failed on,', str(e))\n",
    "   "
   ]
  },
  {
   "cell_type": "code",
   "execution_count": null,
   "metadata": {},
   "outputs": [],
   "source": [
    "# checking the dataframe\n",
    "tweets_df"
   ]
  },
  {
   "cell_type": "code",
   "execution_count": null,
   "metadata": {},
   "outputs": [],
   "source": [
    "# writing the dataframe into tweet_json.text file\n",
    "tweets_df.to_json('tweet_json.txt')"
   ]
  },
  {
   "cell_type": "code",
   "execution_count": 4,
   "metadata": {},
   "outputs": [
    {
     "name": "stdout",
     "output_type": "stream",
     "text": [
      "<class 'pandas.core.frame.DataFrame'>\n",
      "Int64Index: 3000 entries, 0 to 999\n",
      "Data columns (total 3 columns):\n",
      "tweet_id          3000 non-null int64\n",
      "retweet count     3000 non-null int64\n",
      "favorite count    3000 non-null int64\n",
      "dtypes: int64(3)\n",
      "memory usage: 93.8 KB\n"
     ]
    }
   ],
   "source": [
    "# reading the tweet_json.text file\n",
    "df3 = pd.read_json('tweet_json.txt')\n",
    "df3.info()"
   ]
  },
  {
   "cell_type": "markdown",
   "metadata": {
    "extensions": {
     "jupyter_dashboards": {
      "version": 1,
      "views": {
       "grid_default": {
        "col": 4,
        "height": 4,
        "hidden": false,
        "row": 28,
        "width": 4
       },
       "report_default": {
        "hidden": false
       }
      }
     }
    }
   },
   "source": [
    "## Assessing Data\n",
    "In this section, detect and document at least **eight (8) quality issues and two (2) tidiness issue**. You must use **both** visual assessment\n",
    "programmatic assessement to assess the data.\n",
    "\n",
    "**Note:** pay attention to the following key points when you access the data.\n",
    "\n",
    "* You only want original ratings (no retweets) that have images. Though there are 5000+ tweets in the dataset, not all are dog ratings and some are retweets.\n",
    "* Assessing and cleaning the entire dataset completely would require a lot of time, and is not necessary to practice and demonstrate your skills in data wrangling. Therefore, the requirements of this project are only to assess and clean at least 8 quality issues and at least 2 tidiness issues in this dataset.\n",
    "* The fact that the rating numerators are greater than the denominators does not need to be cleaned. This [unique rating system](http://knowyourmeme.com/memes/theyre-good-dogs-brent) is a big part of the popularity of WeRateDogs.\n",
    "* You do not need to gather the tweets beyond August 1st, 2017. You can, but note that you won't be able to gather the image predictions for these tweets since you don't have access to the algorithm used.\n",
    "\n"
   ]
  },
  {
   "cell_type": "code",
   "execution_count": 27,
   "metadata": {},
   "outputs": [
    {
     "data": {
      "text/html": [
       "<div>\n",
       "<style scoped>\n",
       "    .dataframe tbody tr th:only-of-type {\n",
       "        vertical-align: middle;\n",
       "    }\n",
       "\n",
       "    .dataframe tbody tr th {\n",
       "        vertical-align: top;\n",
       "    }\n",
       "\n",
       "    .dataframe thead th {\n",
       "        text-align: right;\n",
       "    }\n",
       "</style>\n",
       "<table border=\"1\" class=\"dataframe\">\n",
       "  <thead>\n",
       "    <tr style=\"text-align: right;\">\n",
       "      <th></th>\n",
       "      <th>tweet_id</th>\n",
       "      <th>in_reply_to_status_id</th>\n",
       "      <th>in_reply_to_user_id</th>\n",
       "      <th>timestamp</th>\n",
       "      <th>source</th>\n",
       "      <th>text</th>\n",
       "      <th>retweeted_status_id</th>\n",
       "      <th>retweeted_status_user_id</th>\n",
       "      <th>retweeted_status_timestamp</th>\n",
       "      <th>expanded_urls</th>\n",
       "      <th>rating_numerator</th>\n",
       "      <th>rating_denominator</th>\n",
       "      <th>name</th>\n",
       "      <th>doggo</th>\n",
       "      <th>floofer</th>\n",
       "      <th>pupper</th>\n",
       "      <th>puppo</th>\n",
       "    </tr>\n",
       "  </thead>\n",
       "  <tbody>\n",
       "    <tr>\n",
       "      <th>2046</th>\n",
       "      <td>671520732782923777</td>\n",
       "      <td>NaN</td>\n",
       "      <td>NaN</td>\n",
       "      <td>2015-12-01 02:46:33 +0000</td>\n",
       "      <td>&lt;a href=\"http://twitter.com/download/iphone\" r...</td>\n",
       "      <td>Meet Alejandro. He's an extremely seductive pu...</td>\n",
       "      <td>NaN</td>\n",
       "      <td>NaN</td>\n",
       "      <td>NaN</td>\n",
       "      <td>https://twitter.com/dog_rates/status/671520732...</td>\n",
       "      <td>10</td>\n",
       "      <td>10</td>\n",
       "      <td>Alejandro</td>\n",
       "      <td>None</td>\n",
       "      <td>None</td>\n",
       "      <td>None</td>\n",
       "      <td>None</td>\n",
       "    </tr>\n",
       "    <tr>\n",
       "      <th>849</th>\n",
       "      <td>766008592277377025</td>\n",
       "      <td>NaN</td>\n",
       "      <td>NaN</td>\n",
       "      <td>2016-08-17 20:27:34 +0000</td>\n",
       "      <td>&lt;a href=\"http://twitter.com/download/iphone\" r...</td>\n",
       "      <td>This is Angel. She stole the @ShopWeRateDogs s...</td>\n",
       "      <td>NaN</td>\n",
       "      <td>NaN</td>\n",
       "      <td>NaN</td>\n",
       "      <td>https://twitter.com/dog_rates/status/766008592...</td>\n",
       "      <td>11</td>\n",
       "      <td>10</td>\n",
       "      <td>Angel</td>\n",
       "      <td>None</td>\n",
       "      <td>None</td>\n",
       "      <td>None</td>\n",
       "      <td>None</td>\n",
       "    </tr>\n",
       "    <tr>\n",
       "      <th>1618</th>\n",
       "      <td>684969860808454144</td>\n",
       "      <td>6.849598e+17</td>\n",
       "      <td>4.196984e+09</td>\n",
       "      <td>2016-01-07 05:28:35 +0000</td>\n",
       "      <td>&lt;a href=\"http://twitter.com/download/iphone\" r...</td>\n",
       "      <td>For those who claim this is a goat, u are wron...</td>\n",
       "      <td>NaN</td>\n",
       "      <td>NaN</td>\n",
       "      <td>NaN</td>\n",
       "      <td>NaN</td>\n",
       "      <td>5</td>\n",
       "      <td>10</td>\n",
       "      <td>None</td>\n",
       "      <td>None</td>\n",
       "      <td>None</td>\n",
       "      <td>None</td>\n",
       "      <td>None</td>\n",
       "    </tr>\n",
       "    <tr>\n",
       "      <th>138</th>\n",
       "      <td>865718153858494464</td>\n",
       "      <td>NaN</td>\n",
       "      <td>NaN</td>\n",
       "      <td>2017-05-19 23:57:46 +0000</td>\n",
       "      <td>&lt;a href=\"http://twitter.com/download/iphone\" r...</td>\n",
       "      <td>Meet Boomer. He's just checking pup on you. Ho...</td>\n",
       "      <td>NaN</td>\n",
       "      <td>NaN</td>\n",
       "      <td>NaN</td>\n",
       "      <td>https://twitter.com/dog_rates/status/865718153...</td>\n",
       "      <td>13</td>\n",
       "      <td>10</td>\n",
       "      <td>Boomer</td>\n",
       "      <td>None</td>\n",
       "      <td>None</td>\n",
       "      <td>None</td>\n",
       "      <td>None</td>\n",
       "    </tr>\n",
       "    <tr>\n",
       "      <th>629</th>\n",
       "      <td>794355576146903043</td>\n",
       "      <td>NaN</td>\n",
       "      <td>NaN</td>\n",
       "      <td>2016-11-04 01:48:22 +0000</td>\n",
       "      <td>&lt;a href=\"http://twitter.com/download/iphone\" r...</td>\n",
       "      <td>RT @dog_rates: This is Butter. She can have wh...</td>\n",
       "      <td>7.887659e+17</td>\n",
       "      <td>4.196984e+09</td>\n",
       "      <td>2016-10-19 15:37:03 +0000</td>\n",
       "      <td>https://twitter.com/dog_rates/status/788765914...</td>\n",
       "      <td>12</td>\n",
       "      <td>10</td>\n",
       "      <td>Butter</td>\n",
       "      <td>None</td>\n",
       "      <td>None</td>\n",
       "      <td>None</td>\n",
       "      <td>None</td>\n",
       "    </tr>\n",
       "    <tr>\n",
       "      <th>354</th>\n",
       "      <td>831262627380748289</td>\n",
       "      <td>NaN</td>\n",
       "      <td>NaN</td>\n",
       "      <td>2017-02-13 22:03:49 +0000</td>\n",
       "      <td>&lt;a href=\"http://twitter.com/download/iphone\" r...</td>\n",
       "      <td>This is Tucker. He's feeling h*ckin festive an...</td>\n",
       "      <td>NaN</td>\n",
       "      <td>NaN</td>\n",
       "      <td>NaN</td>\n",
       "      <td>https://twitter.com/dog_rates/status/831262627...</td>\n",
       "      <td>12</td>\n",
       "      <td>10</td>\n",
       "      <td>Tucker</td>\n",
       "      <td>None</td>\n",
       "      <td>None</td>\n",
       "      <td>None</td>\n",
       "      <td>None</td>\n",
       "    </tr>\n",
       "    <tr>\n",
       "      <th>71</th>\n",
       "      <td>878776093423087618</td>\n",
       "      <td>NaN</td>\n",
       "      <td>NaN</td>\n",
       "      <td>2017-06-25 00:45:22 +0000</td>\n",
       "      <td>&lt;a href=\"http://twitter.com/download/iphone\" r...</td>\n",
       "      <td>This is Snoopy. He's a proud #PrideMonthPuppo....</td>\n",
       "      <td>NaN</td>\n",
       "      <td>NaN</td>\n",
       "      <td>NaN</td>\n",
       "      <td>https://twitter.com/dog_rates/status/878776093...</td>\n",
       "      <td>13</td>\n",
       "      <td>10</td>\n",
       "      <td>Snoopy</td>\n",
       "      <td>None</td>\n",
       "      <td>None</td>\n",
       "      <td>None</td>\n",
       "      <td>puppo</td>\n",
       "    </tr>\n",
       "    <tr>\n",
       "      <th>1315</th>\n",
       "      <td>706681918348251136</td>\n",
       "      <td>NaN</td>\n",
       "      <td>NaN</td>\n",
       "      <td>2016-03-07 03:24:33 +0000</td>\n",
       "      <td>&lt;a href=\"http://twitter.com/download/iphone\" r...</td>\n",
       "      <td>Say hello to Katie. She's a Mitsubishi Hufflep...</td>\n",
       "      <td>NaN</td>\n",
       "      <td>NaN</td>\n",
       "      <td>NaN</td>\n",
       "      <td>https://twitter.com/dog_rates/status/706681918...</td>\n",
       "      <td>12</td>\n",
       "      <td>10</td>\n",
       "      <td>Katie</td>\n",
       "      <td>None</td>\n",
       "      <td>None</td>\n",
       "      <td>None</td>\n",
       "      <td>None</td>\n",
       "    </tr>\n",
       "    <tr>\n",
       "      <th>1163</th>\n",
       "      <td>723673163800948736</td>\n",
       "      <td>NaN</td>\n",
       "      <td>NaN</td>\n",
       "      <td>2016-04-23 00:41:42 +0000</td>\n",
       "      <td>&lt;a href=\"http://twitter.com/download/iphone\" r...</td>\n",
       "      <td>This is Ivar. She is a badass Viking warrior. ...</td>\n",
       "      <td>NaN</td>\n",
       "      <td>NaN</td>\n",
       "      <td>NaN</td>\n",
       "      <td>https://twitter.com/dog_rates/status/723673163...</td>\n",
       "      <td>10</td>\n",
       "      <td>10</td>\n",
       "      <td>Ivar</td>\n",
       "      <td>None</td>\n",
       "      <td>None</td>\n",
       "      <td>None</td>\n",
       "      <td>None</td>\n",
       "    </tr>\n",
       "    <tr>\n",
       "      <th>1086</th>\n",
       "      <td>738166403467907072</td>\n",
       "      <td>NaN</td>\n",
       "      <td>NaN</td>\n",
       "      <td>2016-06-02 00:32:39 +0000</td>\n",
       "      <td>&lt;a href=\"http://twitter.com/download/iphone\" r...</td>\n",
       "      <td>This is Axel. He's a professional leaf catcher...</td>\n",
       "      <td>NaN</td>\n",
       "      <td>NaN</td>\n",
       "      <td>NaN</td>\n",
       "      <td>https://twitter.com/dog_rates/status/738166403...</td>\n",
       "      <td>12</td>\n",
       "      <td>10</td>\n",
       "      <td>Axel</td>\n",
       "      <td>None</td>\n",
       "      <td>None</td>\n",
       "      <td>None</td>\n",
       "      <td>None</td>\n",
       "    </tr>\n",
       "    <tr>\n",
       "      <th>52</th>\n",
       "      <td>882045870035918850</td>\n",
       "      <td>NaN</td>\n",
       "      <td>NaN</td>\n",
       "      <td>2017-07-04 01:18:17 +0000</td>\n",
       "      <td>&lt;a href=\"http://twitter.com/download/iphone\" r...</td>\n",
       "      <td>This is Koko. Her owner, inspired by Barney, r...</td>\n",
       "      <td>NaN</td>\n",
       "      <td>NaN</td>\n",
       "      <td>NaN</td>\n",
       "      <td>https://twitter.com/dog_rates/status/882045870...</td>\n",
       "      <td>13</td>\n",
       "      <td>10</td>\n",
       "      <td>Koko</td>\n",
       "      <td>None</td>\n",
       "      <td>None</td>\n",
       "      <td>None</td>\n",
       "      <td>None</td>\n",
       "    </tr>\n",
       "    <tr>\n",
       "      <th>1443</th>\n",
       "      <td>696744641916489729</td>\n",
       "      <td>NaN</td>\n",
       "      <td>NaN</td>\n",
       "      <td>2016-02-08 17:17:22 +0000</td>\n",
       "      <td>&lt;a href=\"http://vine.co\" rel=\"nofollow\"&gt;Vine -...</td>\n",
       "      <td>This is Klevin. He doesn't want his family bra...</td>\n",
       "      <td>NaN</td>\n",
       "      <td>NaN</td>\n",
       "      <td>NaN</td>\n",
       "      <td>https://vine.co/v/i1wrljBUjAu</td>\n",
       "      <td>10</td>\n",
       "      <td>10</td>\n",
       "      <td>Klevin</td>\n",
       "      <td>None</td>\n",
       "      <td>None</td>\n",
       "      <td>None</td>\n",
       "      <td>None</td>\n",
       "    </tr>\n",
       "    <tr>\n",
       "      <th>2022</th>\n",
       "      <td>672068090318987265</td>\n",
       "      <td>NaN</td>\n",
       "      <td>NaN</td>\n",
       "      <td>2015-12-02 15:01:33 +0000</td>\n",
       "      <td>&lt;a href=\"http://twitter.com/download/iphone\" r...</td>\n",
       "      <td>Say hello to Gizmo. He's upset because he's no...</td>\n",
       "      <td>NaN</td>\n",
       "      <td>NaN</td>\n",
       "      <td>NaN</td>\n",
       "      <td>https://twitter.com/dog_rates/status/672068090...</td>\n",
       "      <td>7</td>\n",
       "      <td>10</td>\n",
       "      <td>Gizmo</td>\n",
       "      <td>None</td>\n",
       "      <td>None</td>\n",
       "      <td>None</td>\n",
       "      <td>None</td>\n",
       "    </tr>\n",
       "    <tr>\n",
       "      <th>1057</th>\n",
       "      <td>742150209887731712</td>\n",
       "      <td>NaN</td>\n",
       "      <td>NaN</td>\n",
       "      <td>2016-06-13 00:22:53 +0000</td>\n",
       "      <td>&lt;a href=\"http://twitter.com/download/iphone\" r...</td>\n",
       "      <td>This is Edmund. He sends stellar selfies. Cute...</td>\n",
       "      <td>NaN</td>\n",
       "      <td>NaN</td>\n",
       "      <td>NaN</td>\n",
       "      <td>https://twitter.com/dog_rates/status/742150209...</td>\n",
       "      <td>8</td>\n",
       "      <td>10</td>\n",
       "      <td>Edmund</td>\n",
       "      <td>None</td>\n",
       "      <td>None</td>\n",
       "      <td>pupper</td>\n",
       "      <td>None</td>\n",
       "    </tr>\n",
       "    <tr>\n",
       "      <th>1594</th>\n",
       "      <td>686377065986265092</td>\n",
       "      <td>NaN</td>\n",
       "      <td>NaN</td>\n",
       "      <td>2016-01-11 02:40:19 +0000</td>\n",
       "      <td>&lt;a href=\"http://twitter.com/download/iphone\" r...</td>\n",
       "      <td>Meet Birf. He thinks he's gone blind. 10/10 ve...</td>\n",
       "      <td>NaN</td>\n",
       "      <td>NaN</td>\n",
       "      <td>NaN</td>\n",
       "      <td>https://twitter.com/dog_rates/status/686377065...</td>\n",
       "      <td>10</td>\n",
       "      <td>10</td>\n",
       "      <td>Birf</td>\n",
       "      <td>None</td>\n",
       "      <td>None</td>\n",
       "      <td>pupper</td>\n",
       "      <td>None</td>\n",
       "    </tr>\n",
       "    <tr>\n",
       "      <th>749</th>\n",
       "      <td>779124354206535695</td>\n",
       "      <td>NaN</td>\n",
       "      <td>NaN</td>\n",
       "      <td>2016-09-23 01:04:56 +0000</td>\n",
       "      <td>&lt;a href=\"http://twitter.com/download/iphone\" r...</td>\n",
       "      <td>RT @dog_rates: Meet Hurley. He's the curly one...</td>\n",
       "      <td>6.794628e+17</td>\n",
       "      <td>4.196984e+09</td>\n",
       "      <td>2015-12-23 00:45:35 +0000</td>\n",
       "      <td>https://twitter.com/dog_rates/status/679462823...</td>\n",
       "      <td>11</td>\n",
       "      <td>10</td>\n",
       "      <td>Hurley</td>\n",
       "      <td>None</td>\n",
       "      <td>None</td>\n",
       "      <td>None</td>\n",
       "      <td>None</td>\n",
       "    </tr>\n",
       "    <tr>\n",
       "      <th>2252</th>\n",
       "      <td>667801013445750784</td>\n",
       "      <td>NaN</td>\n",
       "      <td>NaN</td>\n",
       "      <td>2015-11-20 20:25:43 +0000</td>\n",
       "      <td>&lt;a href=\"http://twitter.com/download/iphone\" r...</td>\n",
       "      <td>OMIGOD 12/10 https://t.co/SVMF4Frf1w</td>\n",
       "      <td>NaN</td>\n",
       "      <td>NaN</td>\n",
       "      <td>NaN</td>\n",
       "      <td>https://twitter.com/dog_rates/status/667801013...</td>\n",
       "      <td>12</td>\n",
       "      <td>10</td>\n",
       "      <td>None</td>\n",
       "      <td>None</td>\n",
       "      <td>None</td>\n",
       "      <td>None</td>\n",
       "      <td>None</td>\n",
       "    </tr>\n",
       "    <tr>\n",
       "      <th>1672</th>\n",
       "      <td>682389078323662849</td>\n",
       "      <td>NaN</td>\n",
       "      <td>NaN</td>\n",
       "      <td>2015-12-31 02:33:29 +0000</td>\n",
       "      <td>&lt;a href=\"http://twitter.com/download/iphone\" r...</td>\n",
       "      <td>Meet Brody. He's a Downton Abbey Falsetto. Add...</td>\n",
       "      <td>NaN</td>\n",
       "      <td>NaN</td>\n",
       "      <td>NaN</td>\n",
       "      <td>https://twitter.com/dog_rates/status/682389078...</td>\n",
       "      <td>9</td>\n",
       "      <td>10</td>\n",
       "      <td>Brody</td>\n",
       "      <td>None</td>\n",
       "      <td>None</td>\n",
       "      <td>None</td>\n",
       "      <td>None</td>\n",
       "    </tr>\n",
       "    <tr>\n",
       "      <th>1988</th>\n",
       "      <td>672834301050937345</td>\n",
       "      <td>NaN</td>\n",
       "      <td>NaN</td>\n",
       "      <td>2015-12-04 17:46:12 +0000</td>\n",
       "      <td>&lt;a href=\"http://twitter.com/download/iphone\" r...</td>\n",
       "      <td>This is Ed. He's not mad, just disappointed. 1...</td>\n",
       "      <td>NaN</td>\n",
       "      <td>NaN</td>\n",
       "      <td>NaN</td>\n",
       "      <td>https://twitter.com/dog_rates/status/672834301...</td>\n",
       "      <td>10</td>\n",
       "      <td>10</td>\n",
       "      <td>Ed</td>\n",
       "      <td>None</td>\n",
       "      <td>None</td>\n",
       "      <td>None</td>\n",
       "      <td>None</td>\n",
       "    </tr>\n",
       "    <tr>\n",
       "      <th>496</th>\n",
       "      <td>813157409116065792</td>\n",
       "      <td>NaN</td>\n",
       "      <td>NaN</td>\n",
       "      <td>2016-12-25 23:00:08 +0000</td>\n",
       "      <td>&lt;a href=\"http://twitter.com/download/iphone\" r...</td>\n",
       "      <td>This is Layla. It is her first Christmas. She ...</td>\n",
       "      <td>NaN</td>\n",
       "      <td>NaN</td>\n",
       "      <td>NaN</td>\n",
       "      <td>https://twitter.com/dog_rates/status/813157409...</td>\n",
       "      <td>12</td>\n",
       "      <td>10</td>\n",
       "      <td>Layla</td>\n",
       "      <td>None</td>\n",
       "      <td>None</td>\n",
       "      <td>None</td>\n",
       "      <td>None</td>\n",
       "    </tr>\n",
       "    <tr>\n",
       "      <th>1016</th>\n",
       "      <td>746906459439529985</td>\n",
       "      <td>7.468859e+17</td>\n",
       "      <td>4.196984e+09</td>\n",
       "      <td>2016-06-26 03:22:31 +0000</td>\n",
       "      <td>&lt;a href=\"http://twitter.com/download/iphone\" r...</td>\n",
       "      <td>PUPDATE: can't see any. Even if I could, I cou...</td>\n",
       "      <td>NaN</td>\n",
       "      <td>NaN</td>\n",
       "      <td>NaN</td>\n",
       "      <td>https://twitter.com/dog_rates/status/746906459...</td>\n",
       "      <td>0</td>\n",
       "      <td>10</td>\n",
       "      <td>None</td>\n",
       "      <td>None</td>\n",
       "      <td>None</td>\n",
       "      <td>None</td>\n",
       "      <td>None</td>\n",
       "    </tr>\n",
       "    <tr>\n",
       "      <th>2296</th>\n",
       "      <td>667090893657276420</td>\n",
       "      <td>NaN</td>\n",
       "      <td>NaN</td>\n",
       "      <td>2015-11-18 21:23:57 +0000</td>\n",
       "      <td>&lt;a href=\"http://twitter.com/download/iphone\" r...</td>\n",
       "      <td>This is Clybe. He is an Anemone Valdez. One ea...</td>\n",
       "      <td>NaN</td>\n",
       "      <td>NaN</td>\n",
       "      <td>NaN</td>\n",
       "      <td>https://twitter.com/dog_rates/status/667090893...</td>\n",
       "      <td>7</td>\n",
       "      <td>10</td>\n",
       "      <td>Clybe</td>\n",
       "      <td>None</td>\n",
       "      <td>None</td>\n",
       "      <td>None</td>\n",
       "      <td>None</td>\n",
       "    </tr>\n",
       "    <tr>\n",
       "      <th>2174</th>\n",
       "      <td>669216679721873412</td>\n",
       "      <td>NaN</td>\n",
       "      <td>NaN</td>\n",
       "      <td>2015-11-24 18:11:04 +0000</td>\n",
       "      <td>&lt;a href=\"http://twitter.com/download/iphone\" r...</td>\n",
       "      <td>This is Clarq. He's a golden Quetzalcoatl. Cla...</td>\n",
       "      <td>NaN</td>\n",
       "      <td>NaN</td>\n",
       "      <td>NaN</td>\n",
       "      <td>https://twitter.com/dog_rates/status/669216679...</td>\n",
       "      <td>8</td>\n",
       "      <td>10</td>\n",
       "      <td>Clarq</td>\n",
       "      <td>None</td>\n",
       "      <td>None</td>\n",
       "      <td>None</td>\n",
       "      <td>None</td>\n",
       "    </tr>\n",
       "    <tr>\n",
       "      <th>2157</th>\n",
       "      <td>669583744538451968</td>\n",
       "      <td>NaN</td>\n",
       "      <td>NaN</td>\n",
       "      <td>2015-11-25 18:29:39 +0000</td>\n",
       "      <td>&lt;a href=\"http://twitter.com/download/iphone\" r...</td>\n",
       "      <td>Special dog here. Pretty big. Neck kinda long ...</td>\n",
       "      <td>NaN</td>\n",
       "      <td>NaN</td>\n",
       "      <td>NaN</td>\n",
       "      <td>https://twitter.com/dog_rates/status/669583744...</td>\n",
       "      <td>6</td>\n",
       "      <td>10</td>\n",
       "      <td>None</td>\n",
       "      <td>None</td>\n",
       "      <td>None</td>\n",
       "      <td>None</td>\n",
       "      <td>None</td>\n",
       "    </tr>\n",
       "    <tr>\n",
       "      <th>1307</th>\n",
       "      <td>707315916783140866</td>\n",
       "      <td>NaN</td>\n",
       "      <td>NaN</td>\n",
       "      <td>2016-03-08 21:23:50 +0000</td>\n",
       "      <td>&lt;a href=\"http://twitter.com/download/iphone\" r...</td>\n",
       "      <td>This is Finnegus. He's trapped in a snow globe...</td>\n",
       "      <td>NaN</td>\n",
       "      <td>NaN</td>\n",
       "      <td>NaN</td>\n",
       "      <td>https://twitter.com/dog_rates/status/707315916...</td>\n",
       "      <td>10</td>\n",
       "      <td>10</td>\n",
       "      <td>Finnegus</td>\n",
       "      <td>None</td>\n",
       "      <td>None</td>\n",
       "      <td>pupper</td>\n",
       "      <td>None</td>\n",
       "    </tr>\n",
       "    <tr>\n",
       "      <th>2179</th>\n",
       "      <td>669006782128353280</td>\n",
       "      <td>NaN</td>\n",
       "      <td>NaN</td>\n",
       "      <td>2015-11-24 04:17:01 +0000</td>\n",
       "      <td>&lt;a href=\"http://twitter.com/download/iphone\" r...</td>\n",
       "      <td>This is Tucker. He is 100% ready for the sport...</td>\n",
       "      <td>NaN</td>\n",
       "      <td>NaN</td>\n",
       "      <td>NaN</td>\n",
       "      <td>https://twitter.com/dog_rates/status/669006782...</td>\n",
       "      <td>12</td>\n",
       "      <td>10</td>\n",
       "      <td>Tucker</td>\n",
       "      <td>None</td>\n",
       "      <td>None</td>\n",
       "      <td>None</td>\n",
       "      <td>None</td>\n",
       "    </tr>\n",
       "    <tr>\n",
       "      <th>2241</th>\n",
       "      <td>667915453470232577</td>\n",
       "      <td>NaN</td>\n",
       "      <td>NaN</td>\n",
       "      <td>2015-11-21 04:00:28 +0000</td>\n",
       "      <td>&lt;a href=\"http://twitter.com/download/iphone\" r...</td>\n",
       "      <td>Meet Otis. He is a Peruvian Quartzite. Pic spo...</td>\n",
       "      <td>NaN</td>\n",
       "      <td>NaN</td>\n",
       "      <td>NaN</td>\n",
       "      <td>https://twitter.com/dog_rates/status/667915453...</td>\n",
       "      <td>10</td>\n",
       "      <td>10</td>\n",
       "      <td>Otis</td>\n",
       "      <td>None</td>\n",
       "      <td>None</td>\n",
       "      <td>None</td>\n",
       "      <td>None</td>\n",
       "    </tr>\n",
       "    <tr>\n",
       "      <th>1975</th>\n",
       "      <td>672997845381865473</td>\n",
       "      <td>NaN</td>\n",
       "      <td>NaN</td>\n",
       "      <td>2015-12-05 04:36:04 +0000</td>\n",
       "      <td>&lt;a href=\"http://twitter.com/download/iphone\" r...</td>\n",
       "      <td>Say hello to Kenzie. She is a fluff ball. 12/1...</td>\n",
       "      <td>NaN</td>\n",
       "      <td>NaN</td>\n",
       "      <td>NaN</td>\n",
       "      <td>https://twitter.com/dog_rates/status/672997845...</td>\n",
       "      <td>12</td>\n",
       "      <td>10</td>\n",
       "      <td>Kenzie</td>\n",
       "      <td>None</td>\n",
       "      <td>None</td>\n",
       "      <td>None</td>\n",
       "      <td>None</td>\n",
       "    </tr>\n",
       "    <tr>\n",
       "      <th>2005</th>\n",
       "      <td>672272411274932228</td>\n",
       "      <td>NaN</td>\n",
       "      <td>NaN</td>\n",
       "      <td>2015-12-03 04:33:27 +0000</td>\n",
       "      <td>&lt;a href=\"http://twitter.com/download/iphone\" r...</td>\n",
       "      <td>This is Pippin. He is terrified of his new lit...</td>\n",
       "      <td>NaN</td>\n",
       "      <td>NaN</td>\n",
       "      <td>NaN</td>\n",
       "      <td>https://twitter.com/dog_rates/status/672272411...</td>\n",
       "      <td>11</td>\n",
       "      <td>10</td>\n",
       "      <td>Pippin</td>\n",
       "      <td>None</td>\n",
       "      <td>None</td>\n",
       "      <td>None</td>\n",
       "      <td>None</td>\n",
       "    </tr>\n",
       "    <tr>\n",
       "      <th>1945</th>\n",
       "      <td>673707060090052608</td>\n",
       "      <td>NaN</td>\n",
       "      <td>NaN</td>\n",
       "      <td>2015-12-07 03:34:14 +0000</td>\n",
       "      <td>&lt;a href=\"http://twitter.com/download/iphone\" r...</td>\n",
       "      <td>This is Raymond. He's absolutely terrified of ...</td>\n",
       "      <td>NaN</td>\n",
       "      <td>NaN</td>\n",
       "      <td>NaN</td>\n",
       "      <td>https://twitter.com/dog_rates/status/673707060...</td>\n",
       "      <td>10</td>\n",
       "      <td>10</td>\n",
       "      <td>Raymond</td>\n",
       "      <td>None</td>\n",
       "      <td>None</td>\n",
       "      <td>pupper</td>\n",
       "      <td>None</td>\n",
       "    </tr>\n",
       "  </tbody>\n",
       "</table>\n",
       "</div>"
      ],
      "text/plain": [
       "                tweet_id  in_reply_to_status_id  in_reply_to_user_id  \\\n",
       "2046  671520732782923777                    NaN                  NaN   \n",
       "849   766008592277377025                    NaN                  NaN   \n",
       "1618  684969860808454144           6.849598e+17         4.196984e+09   \n",
       "138   865718153858494464                    NaN                  NaN   \n",
       "629   794355576146903043                    NaN                  NaN   \n",
       "354   831262627380748289                    NaN                  NaN   \n",
       "71    878776093423087618                    NaN                  NaN   \n",
       "1315  706681918348251136                    NaN                  NaN   \n",
       "1163  723673163800948736                    NaN                  NaN   \n",
       "1086  738166403467907072                    NaN                  NaN   \n",
       "52    882045870035918850                    NaN                  NaN   \n",
       "1443  696744641916489729                    NaN                  NaN   \n",
       "2022  672068090318987265                    NaN                  NaN   \n",
       "1057  742150209887731712                    NaN                  NaN   \n",
       "1594  686377065986265092                    NaN                  NaN   \n",
       "749   779124354206535695                    NaN                  NaN   \n",
       "2252  667801013445750784                    NaN                  NaN   \n",
       "1672  682389078323662849                    NaN                  NaN   \n",
       "1988  672834301050937345                    NaN                  NaN   \n",
       "496   813157409116065792                    NaN                  NaN   \n",
       "1016  746906459439529985           7.468859e+17         4.196984e+09   \n",
       "2296  667090893657276420                    NaN                  NaN   \n",
       "2174  669216679721873412                    NaN                  NaN   \n",
       "2157  669583744538451968                    NaN                  NaN   \n",
       "1307  707315916783140866                    NaN                  NaN   \n",
       "2179  669006782128353280                    NaN                  NaN   \n",
       "2241  667915453470232577                    NaN                  NaN   \n",
       "1975  672997845381865473                    NaN                  NaN   \n",
       "2005  672272411274932228                    NaN                  NaN   \n",
       "1945  673707060090052608                    NaN                  NaN   \n",
       "\n",
       "                      timestamp  \\\n",
       "2046  2015-12-01 02:46:33 +0000   \n",
       "849   2016-08-17 20:27:34 +0000   \n",
       "1618  2016-01-07 05:28:35 +0000   \n",
       "138   2017-05-19 23:57:46 +0000   \n",
       "629   2016-11-04 01:48:22 +0000   \n",
       "354   2017-02-13 22:03:49 +0000   \n",
       "71    2017-06-25 00:45:22 +0000   \n",
       "1315  2016-03-07 03:24:33 +0000   \n",
       "1163  2016-04-23 00:41:42 +0000   \n",
       "1086  2016-06-02 00:32:39 +0000   \n",
       "52    2017-07-04 01:18:17 +0000   \n",
       "1443  2016-02-08 17:17:22 +0000   \n",
       "2022  2015-12-02 15:01:33 +0000   \n",
       "1057  2016-06-13 00:22:53 +0000   \n",
       "1594  2016-01-11 02:40:19 +0000   \n",
       "749   2016-09-23 01:04:56 +0000   \n",
       "2252  2015-11-20 20:25:43 +0000   \n",
       "1672  2015-12-31 02:33:29 +0000   \n",
       "1988  2015-12-04 17:46:12 +0000   \n",
       "496   2016-12-25 23:00:08 +0000   \n",
       "1016  2016-06-26 03:22:31 +0000   \n",
       "2296  2015-11-18 21:23:57 +0000   \n",
       "2174  2015-11-24 18:11:04 +0000   \n",
       "2157  2015-11-25 18:29:39 +0000   \n",
       "1307  2016-03-08 21:23:50 +0000   \n",
       "2179  2015-11-24 04:17:01 +0000   \n",
       "2241  2015-11-21 04:00:28 +0000   \n",
       "1975  2015-12-05 04:36:04 +0000   \n",
       "2005  2015-12-03 04:33:27 +0000   \n",
       "1945  2015-12-07 03:34:14 +0000   \n",
       "\n",
       "                                                 source  \\\n",
       "2046  <a href=\"http://twitter.com/download/iphone\" r...   \n",
       "849   <a href=\"http://twitter.com/download/iphone\" r...   \n",
       "1618  <a href=\"http://twitter.com/download/iphone\" r...   \n",
       "138   <a href=\"http://twitter.com/download/iphone\" r...   \n",
       "629   <a href=\"http://twitter.com/download/iphone\" r...   \n",
       "354   <a href=\"http://twitter.com/download/iphone\" r...   \n",
       "71    <a href=\"http://twitter.com/download/iphone\" r...   \n",
       "1315  <a href=\"http://twitter.com/download/iphone\" r...   \n",
       "1163  <a href=\"http://twitter.com/download/iphone\" r...   \n",
       "1086  <a href=\"http://twitter.com/download/iphone\" r...   \n",
       "52    <a href=\"http://twitter.com/download/iphone\" r...   \n",
       "1443  <a href=\"http://vine.co\" rel=\"nofollow\">Vine -...   \n",
       "2022  <a href=\"http://twitter.com/download/iphone\" r...   \n",
       "1057  <a href=\"http://twitter.com/download/iphone\" r...   \n",
       "1594  <a href=\"http://twitter.com/download/iphone\" r...   \n",
       "749   <a href=\"http://twitter.com/download/iphone\" r...   \n",
       "2252  <a href=\"http://twitter.com/download/iphone\" r...   \n",
       "1672  <a href=\"http://twitter.com/download/iphone\" r...   \n",
       "1988  <a href=\"http://twitter.com/download/iphone\" r...   \n",
       "496   <a href=\"http://twitter.com/download/iphone\" r...   \n",
       "1016  <a href=\"http://twitter.com/download/iphone\" r...   \n",
       "2296  <a href=\"http://twitter.com/download/iphone\" r...   \n",
       "2174  <a href=\"http://twitter.com/download/iphone\" r...   \n",
       "2157  <a href=\"http://twitter.com/download/iphone\" r...   \n",
       "1307  <a href=\"http://twitter.com/download/iphone\" r...   \n",
       "2179  <a href=\"http://twitter.com/download/iphone\" r...   \n",
       "2241  <a href=\"http://twitter.com/download/iphone\" r...   \n",
       "1975  <a href=\"http://twitter.com/download/iphone\" r...   \n",
       "2005  <a href=\"http://twitter.com/download/iphone\" r...   \n",
       "1945  <a href=\"http://twitter.com/download/iphone\" r...   \n",
       "\n",
       "                                                   text  retweeted_status_id  \\\n",
       "2046  Meet Alejandro. He's an extremely seductive pu...                  NaN   \n",
       "849   This is Angel. She stole the @ShopWeRateDogs s...                  NaN   \n",
       "1618  For those who claim this is a goat, u are wron...                  NaN   \n",
       "138   Meet Boomer. He's just checking pup on you. Ho...                  NaN   \n",
       "629   RT @dog_rates: This is Butter. She can have wh...         7.887659e+17   \n",
       "354   This is Tucker. He's feeling h*ckin festive an...                  NaN   \n",
       "71    This is Snoopy. He's a proud #PrideMonthPuppo....                  NaN   \n",
       "1315  Say hello to Katie. She's a Mitsubishi Hufflep...                  NaN   \n",
       "1163  This is Ivar. She is a badass Viking warrior. ...                  NaN   \n",
       "1086  This is Axel. He's a professional leaf catcher...                  NaN   \n",
       "52    This is Koko. Her owner, inspired by Barney, r...                  NaN   \n",
       "1443  This is Klevin. He doesn't want his family bra...                  NaN   \n",
       "2022  Say hello to Gizmo. He's upset because he's no...                  NaN   \n",
       "1057  This is Edmund. He sends stellar selfies. Cute...                  NaN   \n",
       "1594  Meet Birf. He thinks he's gone blind. 10/10 ve...                  NaN   \n",
       "749   RT @dog_rates: Meet Hurley. He's the curly one...         6.794628e+17   \n",
       "2252               OMIGOD 12/10 https://t.co/SVMF4Frf1w                  NaN   \n",
       "1672  Meet Brody. He's a Downton Abbey Falsetto. Add...                  NaN   \n",
       "1988  This is Ed. He's not mad, just disappointed. 1...                  NaN   \n",
       "496   This is Layla. It is her first Christmas. She ...                  NaN   \n",
       "1016  PUPDATE: can't see any. Even if I could, I cou...                  NaN   \n",
       "2296  This is Clybe. He is an Anemone Valdez. One ea...                  NaN   \n",
       "2174  This is Clarq. He's a golden Quetzalcoatl. Cla...                  NaN   \n",
       "2157  Special dog here. Pretty big. Neck kinda long ...                  NaN   \n",
       "1307  This is Finnegus. He's trapped in a snow globe...                  NaN   \n",
       "2179  This is Tucker. He is 100% ready for the sport...                  NaN   \n",
       "2241  Meet Otis. He is a Peruvian Quartzite. Pic spo...                  NaN   \n",
       "1975  Say hello to Kenzie. She is a fluff ball. 12/1...                  NaN   \n",
       "2005  This is Pippin. He is terrified of his new lit...                  NaN   \n",
       "1945  This is Raymond. He's absolutely terrified of ...                  NaN   \n",
       "\n",
       "      retweeted_status_user_id retweeted_status_timestamp  \\\n",
       "2046                       NaN                        NaN   \n",
       "849                        NaN                        NaN   \n",
       "1618                       NaN                        NaN   \n",
       "138                        NaN                        NaN   \n",
       "629               4.196984e+09  2016-10-19 15:37:03 +0000   \n",
       "354                        NaN                        NaN   \n",
       "71                         NaN                        NaN   \n",
       "1315                       NaN                        NaN   \n",
       "1163                       NaN                        NaN   \n",
       "1086                       NaN                        NaN   \n",
       "52                         NaN                        NaN   \n",
       "1443                       NaN                        NaN   \n",
       "2022                       NaN                        NaN   \n",
       "1057                       NaN                        NaN   \n",
       "1594                       NaN                        NaN   \n",
       "749               4.196984e+09  2015-12-23 00:45:35 +0000   \n",
       "2252                       NaN                        NaN   \n",
       "1672                       NaN                        NaN   \n",
       "1988                       NaN                        NaN   \n",
       "496                        NaN                        NaN   \n",
       "1016                       NaN                        NaN   \n",
       "2296                       NaN                        NaN   \n",
       "2174                       NaN                        NaN   \n",
       "2157                       NaN                        NaN   \n",
       "1307                       NaN                        NaN   \n",
       "2179                       NaN                        NaN   \n",
       "2241                       NaN                        NaN   \n",
       "1975                       NaN                        NaN   \n",
       "2005                       NaN                        NaN   \n",
       "1945                       NaN                        NaN   \n",
       "\n",
       "                                          expanded_urls  rating_numerator  \\\n",
       "2046  https://twitter.com/dog_rates/status/671520732...                10   \n",
       "849   https://twitter.com/dog_rates/status/766008592...                11   \n",
       "1618                                                NaN                 5   \n",
       "138   https://twitter.com/dog_rates/status/865718153...                13   \n",
       "629   https://twitter.com/dog_rates/status/788765914...                12   \n",
       "354   https://twitter.com/dog_rates/status/831262627...                12   \n",
       "71    https://twitter.com/dog_rates/status/878776093...                13   \n",
       "1315  https://twitter.com/dog_rates/status/706681918...                12   \n",
       "1163  https://twitter.com/dog_rates/status/723673163...                10   \n",
       "1086  https://twitter.com/dog_rates/status/738166403...                12   \n",
       "52    https://twitter.com/dog_rates/status/882045870...                13   \n",
       "1443                      https://vine.co/v/i1wrljBUjAu                10   \n",
       "2022  https://twitter.com/dog_rates/status/672068090...                 7   \n",
       "1057  https://twitter.com/dog_rates/status/742150209...                 8   \n",
       "1594  https://twitter.com/dog_rates/status/686377065...                10   \n",
       "749   https://twitter.com/dog_rates/status/679462823...                11   \n",
       "2252  https://twitter.com/dog_rates/status/667801013...                12   \n",
       "1672  https://twitter.com/dog_rates/status/682389078...                 9   \n",
       "1988  https://twitter.com/dog_rates/status/672834301...                10   \n",
       "496   https://twitter.com/dog_rates/status/813157409...                12   \n",
       "1016  https://twitter.com/dog_rates/status/746906459...                 0   \n",
       "2296  https://twitter.com/dog_rates/status/667090893...                 7   \n",
       "2174  https://twitter.com/dog_rates/status/669216679...                 8   \n",
       "2157  https://twitter.com/dog_rates/status/669583744...                 6   \n",
       "1307  https://twitter.com/dog_rates/status/707315916...                10   \n",
       "2179  https://twitter.com/dog_rates/status/669006782...                12   \n",
       "2241  https://twitter.com/dog_rates/status/667915453...                10   \n",
       "1975  https://twitter.com/dog_rates/status/672997845...                12   \n",
       "2005  https://twitter.com/dog_rates/status/672272411...                11   \n",
       "1945  https://twitter.com/dog_rates/status/673707060...                10   \n",
       "\n",
       "      rating_denominator       name doggo floofer  pupper  puppo  \n",
       "2046                  10  Alejandro  None    None    None   None  \n",
       "849                   10      Angel  None    None    None   None  \n",
       "1618                  10       None  None    None    None   None  \n",
       "138                   10     Boomer  None    None    None   None  \n",
       "629                   10     Butter  None    None    None   None  \n",
       "354                   10     Tucker  None    None    None   None  \n",
       "71                    10     Snoopy  None    None    None  puppo  \n",
       "1315                  10      Katie  None    None    None   None  \n",
       "1163                  10       Ivar  None    None    None   None  \n",
       "1086                  10       Axel  None    None    None   None  \n",
       "52                    10       Koko  None    None    None   None  \n",
       "1443                  10     Klevin  None    None    None   None  \n",
       "2022                  10      Gizmo  None    None    None   None  \n",
       "1057                  10     Edmund  None    None  pupper   None  \n",
       "1594                  10       Birf  None    None  pupper   None  \n",
       "749                   10     Hurley  None    None    None   None  \n",
       "2252                  10       None  None    None    None   None  \n",
       "1672                  10      Brody  None    None    None   None  \n",
       "1988                  10         Ed  None    None    None   None  \n",
       "496                   10      Layla  None    None    None   None  \n",
       "1016                  10       None  None    None    None   None  \n",
       "2296                  10      Clybe  None    None    None   None  \n",
       "2174                  10      Clarq  None    None    None   None  \n",
       "2157                  10       None  None    None    None   None  \n",
       "1307                  10   Finnegus  None    None  pupper   None  \n",
       "2179                  10     Tucker  None    None    None   None  \n",
       "2241                  10       Otis  None    None    None   None  \n",
       "1975                  10     Kenzie  None    None    None   None  \n",
       "2005                  10     Pippin  None    None    None   None  \n",
       "1945                  10    Raymond  None    None  pupper   None  "
      ]
     },
     "execution_count": 27,
     "metadata": {},
     "output_type": "execute_result"
    }
   ],
   "source": [
    "# visual assessment\n",
    "df1.sample(30)"
   ]
  },
  {
   "cell_type": "code",
   "execution_count": 31,
   "metadata": {},
   "outputs": [
    {
     "data": {
      "text/plain": [
       "2326    <a href=\"http://twitter.com/download/iphone\" r...\n",
       "2327    <a href=\"http://twitter.com/download/iphone\" r...\n",
       "2328    <a href=\"http://twitter.com/download/iphone\" r...\n",
       "2329    <a href=\"http://twitter.com/download/iphone\" r...\n",
       "2330    <a href=\"http://twitter.com/download/iphone\" r...\n",
       "2331    <a href=\"http://twitter.com/download/iphone\" r...\n",
       "2332    <a href=\"http://twitter.com/download/iphone\" r...\n",
       "2333    <a href=\"http://twitter.com/download/iphone\" r...\n",
       "2334    <a href=\"http://twitter.com/download/iphone\" r...\n",
       "2335    <a href=\"http://twitter.com/download/iphone\" r...\n",
       "2336    <a href=\"http://twitter.com/download/iphone\" r...\n",
       "2337    <a href=\"http://twitter.com/download/iphone\" r...\n",
       "2338    <a href=\"http://twitter.com/download/iphone\" r...\n",
       "2339    <a href=\"http://twitter.com/download/iphone\" r...\n",
       "2340    <a href=\"http://twitter.com/download/iphone\" r...\n",
       "2341    <a href=\"http://twitter.com/download/iphone\" r...\n",
       "2342    <a href=\"http://twitter.com/download/iphone\" r...\n",
       "2343    <a href=\"http://twitter.com/download/iphone\" r...\n",
       "2344    <a href=\"http://twitter.com/download/iphone\" r...\n",
       "2345    <a href=\"http://twitter.com/download/iphone\" r...\n",
       "2346    <a href=\"http://twitter.com/download/iphone\" r...\n",
       "2347    <a href=\"http://twitter.com/download/iphone\" r...\n",
       "2348    <a href=\"http://twitter.com/download/iphone\" r...\n",
       "2349    <a href=\"http://twitter.com/download/iphone\" r...\n",
       "2350    <a href=\"http://twitter.com/download/iphone\" r...\n",
       "2351    <a href=\"http://twitter.com/download/iphone\" r...\n",
       "2352    <a href=\"http://twitter.com/download/iphone\" r...\n",
       "2353    <a href=\"http://twitter.com/download/iphone\" r...\n",
       "2354    <a href=\"http://twitter.com/download/iphone\" r...\n",
       "2355    <a href=\"http://twitter.com/download/iphone\" r...\n",
       "Name: source, dtype: object"
      ]
     },
     "execution_count": 31,
     "metadata": {},
     "output_type": "execute_result"
    }
   ],
   "source": [
    "df1['source'].tail(30)"
   ]
  },
  {
   "cell_type": "code",
   "execution_count": 32,
   "metadata": {},
   "outputs": [
    {
     "data": {
      "text/plain": [
       "<a href=\"http://twitter.com/download/iphone\" rel=\"nofollow\">Twitter for iPhone</a>     2221\n",
       "<a href=\"http://vine.co\" rel=\"nofollow\">Vine - Make a Scene</a>                          91\n",
       "<a href=\"http://twitter.com\" rel=\"nofollow\">Twitter Web Client</a>                       33\n",
       "<a href=\"https://about.twitter.com/products/tweetdeck\" rel=\"nofollow\">TweetDeck</a>      11\n",
       "Name: source, dtype: int64"
      ]
     },
     "execution_count": 32,
     "metadata": {},
     "output_type": "execute_result"
    }
   ],
   "source": [
    "df1['source'].value_counts()"
   ]
  },
  {
   "cell_type": "code",
   "execution_count": null,
   "metadata": {},
   "outputs": [],
   "source": [
    "# visual assessment\n",
    "df2.sample(5)"
   ]
  },
  {
   "cell_type": "code",
   "execution_count": null,
   "metadata": {},
   "outputs": [],
   "source": [
    "# visual assessment\n",
    "df3.sample(5)"
   ]
  },
  {
   "cell_type": "code",
   "execution_count": null,
   "metadata": {},
   "outputs": [],
   "source": [
    "# programatic assessment\n",
    "df1.info()"
   ]
  },
  {
   "cell_type": "code",
   "execution_count": null,
   "metadata": {},
   "outputs": [],
   "source": [
    "df1['retweeted_status_id'].isnull()== False"
   ]
  },
  {
   "cell_type": "code",
   "execution_count": null,
   "metadata": {},
   "outputs": [],
   "source": [
    "df1['retweeted_status_id'].notnull()"
   ]
  },
  {
   "cell_type": "code",
   "execution_count": null,
   "metadata": {},
   "outputs": [],
   "source": [
    "df1['source'].value_counts()"
   ]
  },
  {
   "cell_type": "code",
   "execution_count": null,
   "metadata": {},
   "outputs": [],
   "source": [
    "df2.info()"
   ]
  },
  {
   "cell_type": "code",
   "execution_count": null,
   "metadata": {},
   "outputs": [],
   "source": [
    "df2.nunique()"
   ]
  },
  {
   "cell_type": "code",
   "execution_count": null,
   "metadata": {},
   "outputs": [],
   "source": [
    "df3.info()"
   ]
  },
  {
   "cell_type": "code",
   "execution_count": 19,
   "metadata": {},
   "outputs": [
    {
     "data": {
      "text/plain": [
       "tweet_id                      2356\n",
       "in_reply_to_status_id           77\n",
       "in_reply_to_user_id             31\n",
       "timestamp                     2356\n",
       "source                           4\n",
       "text                          2356\n",
       "retweeted_status_id            181\n",
       "retweeted_status_user_id        25\n",
       "retweeted_status_timestamp     181\n",
       "expanded_urls                 2218\n",
       "rating_numerator                40\n",
       "rating_denominator              18\n",
       "name                           957\n",
       "doggo                            2\n",
       "floofer                          2\n",
       "pupper                           2\n",
       "puppo                            2\n",
       "dtype: int64"
      ]
     },
     "execution_count": 19,
     "metadata": {},
     "output_type": "execute_result"
    }
   ],
   "source": [
    "df1.nunique()"
   ]
  },
  {
   "cell_type": "code",
   "execution_count": 18,
   "metadata": {},
   "outputs": [
    {
     "data": {
      "text/html": [
       "<div>\n",
       "<style scoped>\n",
       "    .dataframe tbody tr th:only-of-type {\n",
       "        vertical-align: middle;\n",
       "    }\n",
       "\n",
       "    .dataframe tbody tr th {\n",
       "        vertical-align: top;\n",
       "    }\n",
       "\n",
       "    .dataframe thead th {\n",
       "        text-align: right;\n",
       "    }\n",
       "</style>\n",
       "<table border=\"1\" class=\"dataframe\">\n",
       "  <thead>\n",
       "    <tr style=\"text-align: right;\">\n",
       "      <th></th>\n",
       "      <th>tweet_id</th>\n",
       "      <th>in_reply_to_status_id</th>\n",
       "      <th>in_reply_to_user_id</th>\n",
       "      <th>retweeted_status_id</th>\n",
       "      <th>retweeted_status_user_id</th>\n",
       "      <th>rating_numerator</th>\n",
       "      <th>rating_denominator</th>\n",
       "    </tr>\n",
       "  </thead>\n",
       "  <tbody>\n",
       "    <tr>\n",
       "      <th>count</th>\n",
       "      <td>2.356000e+03</td>\n",
       "      <td>7.800000e+01</td>\n",
       "      <td>7.800000e+01</td>\n",
       "      <td>1.810000e+02</td>\n",
       "      <td>1.810000e+02</td>\n",
       "      <td>2356.000000</td>\n",
       "      <td>2356.000000</td>\n",
       "    </tr>\n",
       "    <tr>\n",
       "      <th>mean</th>\n",
       "      <td>7.427716e+17</td>\n",
       "      <td>7.455079e+17</td>\n",
       "      <td>2.014171e+16</td>\n",
       "      <td>7.720400e+17</td>\n",
       "      <td>1.241698e+16</td>\n",
       "      <td>13.126486</td>\n",
       "      <td>10.455433</td>\n",
       "    </tr>\n",
       "    <tr>\n",
       "      <th>std</th>\n",
       "      <td>6.856705e+16</td>\n",
       "      <td>7.582492e+16</td>\n",
       "      <td>1.252797e+17</td>\n",
       "      <td>6.236928e+16</td>\n",
       "      <td>9.599254e+16</td>\n",
       "      <td>45.876648</td>\n",
       "      <td>6.745237</td>\n",
       "    </tr>\n",
       "    <tr>\n",
       "      <th>min</th>\n",
       "      <td>6.660209e+17</td>\n",
       "      <td>6.658147e+17</td>\n",
       "      <td>1.185634e+07</td>\n",
       "      <td>6.661041e+17</td>\n",
       "      <td>7.832140e+05</td>\n",
       "      <td>0.000000</td>\n",
       "      <td>0.000000</td>\n",
       "    </tr>\n",
       "    <tr>\n",
       "      <th>25%</th>\n",
       "      <td>6.783989e+17</td>\n",
       "      <td>6.757419e+17</td>\n",
       "      <td>3.086374e+08</td>\n",
       "      <td>7.186315e+17</td>\n",
       "      <td>4.196984e+09</td>\n",
       "      <td>10.000000</td>\n",
       "      <td>10.000000</td>\n",
       "    </tr>\n",
       "    <tr>\n",
       "      <th>50%</th>\n",
       "      <td>7.196279e+17</td>\n",
       "      <td>7.038708e+17</td>\n",
       "      <td>4.196984e+09</td>\n",
       "      <td>7.804657e+17</td>\n",
       "      <td>4.196984e+09</td>\n",
       "      <td>11.000000</td>\n",
       "      <td>10.000000</td>\n",
       "    </tr>\n",
       "    <tr>\n",
       "      <th>75%</th>\n",
       "      <td>7.993373e+17</td>\n",
       "      <td>8.257804e+17</td>\n",
       "      <td>4.196984e+09</td>\n",
       "      <td>8.203146e+17</td>\n",
       "      <td>4.196984e+09</td>\n",
       "      <td>12.000000</td>\n",
       "      <td>10.000000</td>\n",
       "    </tr>\n",
       "    <tr>\n",
       "      <th>max</th>\n",
       "      <td>8.924206e+17</td>\n",
       "      <td>8.862664e+17</td>\n",
       "      <td>8.405479e+17</td>\n",
       "      <td>8.874740e+17</td>\n",
       "      <td>7.874618e+17</td>\n",
       "      <td>1776.000000</td>\n",
       "      <td>170.000000</td>\n",
       "    </tr>\n",
       "  </tbody>\n",
       "</table>\n",
       "</div>"
      ],
      "text/plain": [
       "           tweet_id  in_reply_to_status_id  in_reply_to_user_id  \\\n",
       "count  2.356000e+03           7.800000e+01         7.800000e+01   \n",
       "mean   7.427716e+17           7.455079e+17         2.014171e+16   \n",
       "std    6.856705e+16           7.582492e+16         1.252797e+17   \n",
       "min    6.660209e+17           6.658147e+17         1.185634e+07   \n",
       "25%    6.783989e+17           6.757419e+17         3.086374e+08   \n",
       "50%    7.196279e+17           7.038708e+17         4.196984e+09   \n",
       "75%    7.993373e+17           8.257804e+17         4.196984e+09   \n",
       "max    8.924206e+17           8.862664e+17         8.405479e+17   \n",
       "\n",
       "       retweeted_status_id  retweeted_status_user_id  rating_numerator  \\\n",
       "count         1.810000e+02              1.810000e+02       2356.000000   \n",
       "mean          7.720400e+17              1.241698e+16         13.126486   \n",
       "std           6.236928e+16              9.599254e+16         45.876648   \n",
       "min           6.661041e+17              7.832140e+05          0.000000   \n",
       "25%           7.186315e+17              4.196984e+09         10.000000   \n",
       "50%           7.804657e+17              4.196984e+09         11.000000   \n",
       "75%           8.203146e+17              4.196984e+09         12.000000   \n",
       "max           8.874740e+17              7.874618e+17       1776.000000   \n",
       "\n",
       "       rating_denominator  \n",
       "count         2356.000000  \n",
       "mean            10.455433  \n",
       "std              6.745237  \n",
       "min              0.000000  \n",
       "25%             10.000000  \n",
       "50%             10.000000  \n",
       "75%             10.000000  \n",
       "max            170.000000  "
      ]
     },
     "execution_count": 18,
     "metadata": {},
     "output_type": "execute_result"
    }
   ],
   "source": [
    "df1.describe()"
   ]
  },
  {
   "cell_type": "markdown",
   "metadata": {},
   "source": [
    "the rating denominator maximum value shouldn't be 170 and minimum also shouldn't be 0. rating maximum value is also exaggurated with 1776 value. on the next cell let's sort these columns."
   ]
  },
  {
   "cell_type": "code",
   "execution_count": null,
   "metadata": {},
   "outputs": [],
   "source": [
    "df1['rating_numerator'].sort_values()"
   ]
  },
  {
   "cell_type": "code",
   "execution_count": null,
   "metadata": {},
   "outputs": [],
   "source": [
    "df1['rating_denominator'].sort_values()"
   ]
  },
  {
   "cell_type": "code",
   "execution_count": null,
   "metadata": {},
   "outputs": [],
   "source": [
    "df1['name'].duplicated().value_counts()"
   ]
  },
  {
   "cell_type": "code",
   "execution_count": null,
   "metadata": {},
   "outputs": [],
   "source": [
    "df1['expanded_urls'].duplicated().sum()"
   ]
  },
  {
   "cell_type": "code",
   "execution_count": null,
   "metadata": {},
   "outputs": [],
   "source": [
    "df1[df1['expanded_urls'].duplicated()]"
   ]
  },
  {
   "cell_type": "code",
   "execution_count": null,
   "metadata": {},
   "outputs": [],
   "source": [
    "df1[df1['name']=='Eve']"
   ]
  },
  {
   "cell_type": "code",
   "execution_count": null,
   "metadata": {},
   "outputs": [],
   "source": [
    "df1[df1['name']=='None']"
   ]
  },
  {
   "cell_type": "code",
   "execution_count": null,
   "metadata": {},
   "outputs": [],
   "source": [
    "df1[df1['name']=='Timison']"
   ]
  },
  {
   "cell_type": "code",
   "execution_count": 26,
   "metadata": {},
   "outputs": [
    {
     "name": "stdout",
     "output_type": "stream",
     "text": [
      "<class 'pandas.core.frame.DataFrame'>\n",
      "RangeIndex: 2075 entries, 0 to 2074\n",
      "Data columns (total 12 columns):\n",
      "tweet_id    2075 non-null int64\n",
      "jpg_url     2075 non-null object\n",
      "img_num     2075 non-null int64\n",
      "p1          2075 non-null object\n",
      "p1_conf     2075 non-null float64\n",
      "p1_dog      2075 non-null bool\n",
      "p2          2075 non-null object\n",
      "p2_conf     2075 non-null float64\n",
      "p2_dog      2075 non-null bool\n",
      "p3          2075 non-null object\n",
      "p3_conf     2075 non-null float64\n",
      "p3_dog      2075 non-null bool\n",
      "dtypes: bool(3), float64(3), int64(2), object(4)\n",
      "memory usage: 152.1+ KB\n"
     ]
    }
   ],
   "source": [
    "df2.info()"
   ]
  },
  {
   "cell_type": "code",
   "execution_count": null,
   "metadata": {},
   "outputs": [],
   "source": [
    "sum(df2['p1'].duplicated())"
   ]
  },
  {
   "cell_type": "code",
   "execution_count": null,
   "metadata": {},
   "outputs": [],
   "source": [
    "df2['p1'].value_counts()"
   ]
  },
  {
   "cell_type": "code",
   "execution_count": null,
   "metadata": {},
   "outputs": [],
   "source": [
    "sum(df2['p1_conf'].duplicated())"
   ]
  },
  {
   "cell_type": "code",
   "execution_count": null,
   "metadata": {},
   "outputs": [],
   "source": [
    "df2[df2['jpg_url'].duplicated()]"
   ]
  },
  {
   "cell_type": "code",
   "execution_count": null,
   "metadata": {},
   "outputs": [],
   "source": [
    "df2[df2['p1_conf'].duplicated()]"
   ]
  },
  {
   "cell_type": "code",
   "execution_count": null,
   "metadata": {},
   "outputs": [],
   "source": [
    "df3.info()"
   ]
  },
  {
   "cell_type": "code",
   "execution_count": null,
   "metadata": {},
   "outputs": [],
   "source": [
    "df3.describe()"
   ]
  },
  {
   "cell_type": "code",
   "execution_count": null,
   "metadata": {},
   "outputs": [],
   "source": [
    "sum(df3['retweet count'].duplicated())"
   ]
  },
  {
   "cell_type": "code",
   "execution_count": null,
   "metadata": {},
   "outputs": [],
   "source": [
    "sum(df3['favorite count'].duplicated())"
   ]
  },
  {
   "cell_type": "code",
   "execution_count": null,
   "metadata": {},
   "outputs": [],
   "source": [
    "df1['name'].value_counts()"
   ]
  },
  {
   "cell_type": "code",
   "execution_count": null,
   "metadata": {},
   "outputs": [],
   "source": [
    "df1['doggo'].value_counts()"
   ]
  },
  {
   "cell_type": "code",
   "execution_count": null,
   "metadata": {},
   "outputs": [],
   "source": [
    "df1['floofer'].value_counts()"
   ]
  },
  {
   "cell_type": "code",
   "execution_count": null,
   "metadata": {},
   "outputs": [],
   "source": [
    "df1.rating_numerator.sort_values()"
   ]
  },
  {
   "cell_type": "markdown",
   "metadata": {},
   "source": [
    "### Quality issues\n",
    "1. timestamp in object type instead of datetime type\n",
    "\n",
    "2. there are retweet in the df1 table\n",
    "\n",
    "3. 'a', 'an' and 'by' names in name column of df1 table \n",
    "\n",
    "4. '<a' prefix in values of source column\n",
    "5. a lot of null values in df1 table in columns = in_reply_to_status_id, in_reply_to_user_id, retweeted_status_id, retweeted_status_user_id, and retweeted_status_timestamp \n",
    "\n",
    "6. in df1 table denominator values morethan and lessthan 10\n",
    "\n",
    "7. source should be category instead of object, tweet_id shuold be object instead of integer\n",
    "\n",
    "8. exagurated outlier rating_numerator values above hundereds such as 1776,960,666.420,204,182,165,144,143,121,99,88,84,80,75,60"
   ]
  },
  {
   "cell_type": "markdown",
   "metadata": {
    "extensions": {
     "jupyter_dashboards": {
      "version": 1,
      "views": {
       "grid_default": {
        "col": 0,
        "height": 7,
        "hidden": false,
        "row": 40,
        "width": 12
       },
       "report_default": {
        "hidden": false
       }
      }
     }
    }
   },
   "source": [
    "### Tidiness issues\n",
    "1. in df1 table timestamp holds two variables time and date\n",
    "\n",
    "2. df1 and df2 table have data of the same twitter account of the same time, so they should be merged "
   ]
  },
  {
   "cell_type": "markdown",
   "metadata": {
    "extensions": {
     "jupyter_dashboards": {
      "version": 1,
      "views": {
       "grid_default": {
        "col": 4,
        "height": 4,
        "hidden": false,
        "row": 32,
        "width": 4
       },
       "report_default": {
        "hidden": false
       }
      }
     }
    }
   },
   "source": [
    "## Cleaning Data\n",
    "In this section, clean **all** of the issues you documented while assessing. \n",
    "\n",
    "**Note:** Make a copy of the original data before cleaning. Cleaning includes merging individual pieces of data according to the rules of [tidy data](https://cran.r-project.org/web/packages/tidyr/vignettes/tidy-data.html). The result should be a high-quality and tidy master pandas DataFrame (or DataFrames, if appropriate)."
   ]
  },
  {
   "cell_type": "code",
   "execution_count": 5,
   "metadata": {},
   "outputs": [],
   "source": [
    "# Make copies of original pieces of data\n",
    "df1_clean = df1.copy()\n",
    "df2_clean = df2.copy()\n",
    "df3_clean = df3.copy()"
   ]
  },
  {
   "cell_type": "markdown",
   "metadata": {},
   "source": [
    "### Issue #1:"
   ]
  },
  {
   "cell_type": "markdown",
   "metadata": {},
   "source": [
    "#### Define: separating timestamp column into two date and time column"
   ]
  },
  {
   "cell_type": "markdown",
   "metadata": {},
   "source": [
    "#### Code"
   ]
  },
  {
   "cell_type": "code",
   "execution_count": 11,
   "metadata": {},
   "outputs": [],
   "source": [
    "# i get this line of code from stackoverflow and improved my previous method based on split\n",
    "import datetime\n",
    "\n",
    "df1_clean['time'] = pd.to_datetime(df1_clean['timestamp'])"
   ]
  },
  {
   "cell_type": "code",
   "execution_count": 13,
   "metadata": {},
   "outputs": [],
   "source": [
    "df1_clean['dates'] = df1_clean['time'].dt.date"
   ]
  },
  {
   "cell_type": "code",
   "execution_count": 16,
   "metadata": {},
   "outputs": [],
   "source": [
    "df1_clean=df1_clean.drop('timestamp', axis = 1)"
   ]
  },
  {
   "cell_type": "markdown",
   "metadata": {},
   "source": [
    "#### Test"
   ]
  },
  {
   "cell_type": "code",
   "execution_count": 17,
   "metadata": {},
   "outputs": [
    {
     "data": {
      "text/html": [
       "<div>\n",
       "<style scoped>\n",
       "    .dataframe tbody tr th:only-of-type {\n",
       "        vertical-align: middle;\n",
       "    }\n",
       "\n",
       "    .dataframe tbody tr th {\n",
       "        vertical-align: top;\n",
       "    }\n",
       "\n",
       "    .dataframe thead th {\n",
       "        text-align: right;\n",
       "    }\n",
       "</style>\n",
       "<table border=\"1\" class=\"dataframe\">\n",
       "  <thead>\n",
       "    <tr style=\"text-align: right;\">\n",
       "      <th></th>\n",
       "      <th>tweet_id</th>\n",
       "      <th>in_reply_to_status_id</th>\n",
       "      <th>in_reply_to_user_id</th>\n",
       "      <th>source</th>\n",
       "      <th>text</th>\n",
       "      <th>retweeted_status_id</th>\n",
       "      <th>retweeted_status_user_id</th>\n",
       "      <th>retweeted_status_timestamp</th>\n",
       "      <th>expanded_urls</th>\n",
       "      <th>rating_numerator</th>\n",
       "      <th>rating_denominator</th>\n",
       "      <th>name</th>\n",
       "      <th>doggo</th>\n",
       "      <th>floofer</th>\n",
       "      <th>pupper</th>\n",
       "      <th>puppo</th>\n",
       "      <th>time</th>\n",
       "      <th>dates</th>\n",
       "    </tr>\n",
       "  </thead>\n",
       "  <tbody>\n",
       "    <tr>\n",
       "      <th>0</th>\n",
       "      <td>892420643555336193</td>\n",
       "      <td>NaN</td>\n",
       "      <td>NaN</td>\n",
       "      <td>&lt;a href=\"http://twitter.com/download/iphone\" r...</td>\n",
       "      <td>This is Phineas. He's a mystical boy. Only eve...</td>\n",
       "      <td>NaN</td>\n",
       "      <td>NaN</td>\n",
       "      <td>NaN</td>\n",
       "      <td>https://twitter.com/dog_rates/status/892420643...</td>\n",
       "      <td>13</td>\n",
       "      <td>10</td>\n",
       "      <td>Phineas</td>\n",
       "      <td>None</td>\n",
       "      <td>None</td>\n",
       "      <td>None</td>\n",
       "      <td>None</td>\n",
       "      <td>2017-08-01 16:23:56</td>\n",
       "      <td>2017-08-01</td>\n",
       "    </tr>\n",
       "    <tr>\n",
       "      <th>1</th>\n",
       "      <td>892177421306343426</td>\n",
       "      <td>NaN</td>\n",
       "      <td>NaN</td>\n",
       "      <td>&lt;a href=\"http://twitter.com/download/iphone\" r...</td>\n",
       "      <td>This is Tilly. She's just checking pup on you....</td>\n",
       "      <td>NaN</td>\n",
       "      <td>NaN</td>\n",
       "      <td>NaN</td>\n",
       "      <td>https://twitter.com/dog_rates/status/892177421...</td>\n",
       "      <td>13</td>\n",
       "      <td>10</td>\n",
       "      <td>Tilly</td>\n",
       "      <td>None</td>\n",
       "      <td>None</td>\n",
       "      <td>None</td>\n",
       "      <td>None</td>\n",
       "      <td>2017-08-01 00:17:27</td>\n",
       "      <td>2017-08-01</td>\n",
       "    </tr>\n",
       "    <tr>\n",
       "      <th>2</th>\n",
       "      <td>891815181378084864</td>\n",
       "      <td>NaN</td>\n",
       "      <td>NaN</td>\n",
       "      <td>&lt;a href=\"http://twitter.com/download/iphone\" r...</td>\n",
       "      <td>This is Archie. He is a rare Norwegian Pouncin...</td>\n",
       "      <td>NaN</td>\n",
       "      <td>NaN</td>\n",
       "      <td>NaN</td>\n",
       "      <td>https://twitter.com/dog_rates/status/891815181...</td>\n",
       "      <td>12</td>\n",
       "      <td>10</td>\n",
       "      <td>Archie</td>\n",
       "      <td>None</td>\n",
       "      <td>None</td>\n",
       "      <td>None</td>\n",
       "      <td>None</td>\n",
       "      <td>2017-07-31 00:18:03</td>\n",
       "      <td>2017-07-31</td>\n",
       "    </tr>\n",
       "    <tr>\n",
       "      <th>3</th>\n",
       "      <td>891689557279858688</td>\n",
       "      <td>NaN</td>\n",
       "      <td>NaN</td>\n",
       "      <td>&lt;a href=\"http://twitter.com/download/iphone\" r...</td>\n",
       "      <td>This is Darla. She commenced a snooze mid meal...</td>\n",
       "      <td>NaN</td>\n",
       "      <td>NaN</td>\n",
       "      <td>NaN</td>\n",
       "      <td>https://twitter.com/dog_rates/status/891689557...</td>\n",
       "      <td>13</td>\n",
       "      <td>10</td>\n",
       "      <td>Darla</td>\n",
       "      <td>None</td>\n",
       "      <td>None</td>\n",
       "      <td>None</td>\n",
       "      <td>None</td>\n",
       "      <td>2017-07-30 15:58:51</td>\n",
       "      <td>2017-07-30</td>\n",
       "    </tr>\n",
       "    <tr>\n",
       "      <th>4</th>\n",
       "      <td>891327558926688256</td>\n",
       "      <td>NaN</td>\n",
       "      <td>NaN</td>\n",
       "      <td>&lt;a href=\"http://twitter.com/download/iphone\" r...</td>\n",
       "      <td>This is Franklin. He would like you to stop ca...</td>\n",
       "      <td>NaN</td>\n",
       "      <td>NaN</td>\n",
       "      <td>NaN</td>\n",
       "      <td>https://twitter.com/dog_rates/status/891327558...</td>\n",
       "      <td>12</td>\n",
       "      <td>10</td>\n",
       "      <td>Franklin</td>\n",
       "      <td>None</td>\n",
       "      <td>None</td>\n",
       "      <td>None</td>\n",
       "      <td>None</td>\n",
       "      <td>2017-07-29 16:00:24</td>\n",
       "      <td>2017-07-29</td>\n",
       "    </tr>\n",
       "  </tbody>\n",
       "</table>\n",
       "</div>"
      ],
      "text/plain": [
       "             tweet_id  in_reply_to_status_id  in_reply_to_user_id  \\\n",
       "0  892420643555336193                    NaN                  NaN   \n",
       "1  892177421306343426                    NaN                  NaN   \n",
       "2  891815181378084864                    NaN                  NaN   \n",
       "3  891689557279858688                    NaN                  NaN   \n",
       "4  891327558926688256                    NaN                  NaN   \n",
       "\n",
       "                                              source  \\\n",
       "0  <a href=\"http://twitter.com/download/iphone\" r...   \n",
       "1  <a href=\"http://twitter.com/download/iphone\" r...   \n",
       "2  <a href=\"http://twitter.com/download/iphone\" r...   \n",
       "3  <a href=\"http://twitter.com/download/iphone\" r...   \n",
       "4  <a href=\"http://twitter.com/download/iphone\" r...   \n",
       "\n",
       "                                                text  retweeted_status_id  \\\n",
       "0  This is Phineas. He's a mystical boy. Only eve...                  NaN   \n",
       "1  This is Tilly. She's just checking pup on you....                  NaN   \n",
       "2  This is Archie. He is a rare Norwegian Pouncin...                  NaN   \n",
       "3  This is Darla. She commenced a snooze mid meal...                  NaN   \n",
       "4  This is Franklin. He would like you to stop ca...                  NaN   \n",
       "\n",
       "   retweeted_status_user_id retweeted_status_timestamp  \\\n",
       "0                       NaN                        NaN   \n",
       "1                       NaN                        NaN   \n",
       "2                       NaN                        NaN   \n",
       "3                       NaN                        NaN   \n",
       "4                       NaN                        NaN   \n",
       "\n",
       "                                       expanded_urls  rating_numerator  \\\n",
       "0  https://twitter.com/dog_rates/status/892420643...                13   \n",
       "1  https://twitter.com/dog_rates/status/892177421...                13   \n",
       "2  https://twitter.com/dog_rates/status/891815181...                12   \n",
       "3  https://twitter.com/dog_rates/status/891689557...                13   \n",
       "4  https://twitter.com/dog_rates/status/891327558...                12   \n",
       "\n",
       "   rating_denominator      name doggo floofer pupper puppo  \\\n",
       "0                  10   Phineas  None    None   None  None   \n",
       "1                  10     Tilly  None    None   None  None   \n",
       "2                  10    Archie  None    None   None  None   \n",
       "3                  10     Darla  None    None   None  None   \n",
       "4                  10  Franklin  None    None   None  None   \n",
       "\n",
       "                 time       dates  \n",
       "0 2017-08-01 16:23:56  2017-08-01  \n",
       "1 2017-08-01 00:17:27  2017-08-01  \n",
       "2 2017-07-31 00:18:03  2017-07-31  \n",
       "3 2017-07-30 15:58:51  2017-07-30  \n",
       "4 2017-07-29 16:00:24  2017-07-29  "
      ]
     },
     "execution_count": 17,
     "metadata": {},
     "output_type": "execute_result"
    }
   ],
   "source": [
    "df1_clean.head()"
   ]
  },
  {
   "cell_type": "markdown",
   "metadata": {},
   "source": [
    "### Issue #2: "
   ]
  },
  {
   "cell_type": "markdown",
   "metadata": {
    "collapsed": true,
    "extensions": {
     "jupyter_dashboards": {
      "version": 1,
      "views": {
       "grid_default": {
        "hidden": true
       },
       "report_default": {
        "hidden": true
       }
      }
     }
    }
   },
   "source": [
    "#### Define: combining df1 and df2 table"
   ]
  },
  {
   "cell_type": "markdown",
   "metadata": {},
   "source": [
    "#### Code"
   ]
  },
  {
   "cell_type": "code",
   "execution_count": 34,
   "metadata": {},
   "outputs": [],
   "source": [
    "df_clean = pd.merge(df1_clean, df2_clean,\n",
    "                            on=['tweet_id'], how='outer')\n"
   ]
  },
  {
   "cell_type": "markdown",
   "metadata": {},
   "source": [
    "#### Test"
   ]
  },
  {
   "cell_type": "code",
   "execution_count": 35,
   "metadata": {},
   "outputs": [
    {
     "name": "stdout",
     "output_type": "stream",
     "text": [
      "<class 'pandas.core.frame.DataFrame'>\n",
      "Int64Index: 2356 entries, 0 to 2355\n",
      "Data columns (total 29 columns):\n",
      "tweet_id                      2356 non-null int64\n",
      "in_reply_to_status_id         78 non-null float64\n",
      "in_reply_to_user_id           78 non-null float64\n",
      "source                        2356 non-null object\n",
      "text                          2356 non-null object\n",
      "retweeted_status_id           181 non-null float64\n",
      "retweeted_status_user_id      181 non-null float64\n",
      "retweeted_status_timestamp    181 non-null object\n",
      "expanded_urls                 2297 non-null object\n",
      "rating_numerator              2356 non-null int64\n",
      "rating_denominator            2356 non-null int64\n",
      "name                          2356 non-null object\n",
      "doggo                         2356 non-null object\n",
      "floofer                       2356 non-null object\n",
      "pupper                        2356 non-null object\n",
      "puppo                         2356 non-null object\n",
      "time                          2356 non-null datetime64[ns]\n",
      "dates                         2356 non-null object\n",
      "jpg_url                       2075 non-null object\n",
      "img_num                       2075 non-null float64\n",
      "p1                            2075 non-null object\n",
      "p1_conf                       2075 non-null float64\n",
      "p1_dog                        2075 non-null object\n",
      "p2                            2075 non-null object\n",
      "p2_conf                       2075 non-null float64\n",
      "p2_dog                        2075 non-null object\n",
      "p3                            2075 non-null object\n",
      "p3_conf                       2075 non-null float64\n",
      "p3_dog                        2075 non-null object\n",
      "dtypes: datetime64[ns](1), float64(8), int64(3), object(17)\n",
      "memory usage: 552.2+ KB\n"
     ]
    }
   ],
   "source": [
    "df_clean.info()"
   ]
  },
  {
   "cell_type": "markdown",
   "metadata": {},
   "source": [
    "## issue #3"
   ]
  },
  {
   "cell_type": "markdown",
   "metadata": {},
   "source": [
    "## define: changing date and time from object to timedate types"
   ]
  },
  {
   "cell_type": "markdown",
   "metadata": {},
   "source": [
    "## code"
   ]
  },
  {
   "cell_type": "code",
   "execution_count": 37,
   "metadata": {},
   "outputs": [],
   "source": [
    "# To datetime\n",
    "df_clean.dates = pd.to_datetime(df1_clean.dates)"
   ]
  },
  {
   "cell_type": "markdown",
   "metadata": {},
   "source": [
    "## test "
   ]
  },
  {
   "cell_type": "code",
   "execution_count": 38,
   "metadata": {},
   "outputs": [
    {
     "name": "stdout",
     "output_type": "stream",
     "text": [
      "<class 'pandas.core.frame.DataFrame'>\n",
      "Int64Index: 2356 entries, 0 to 2355\n",
      "Data columns (total 29 columns):\n",
      "tweet_id                      2356 non-null int64\n",
      "in_reply_to_status_id         78 non-null float64\n",
      "in_reply_to_user_id           78 non-null float64\n",
      "source                        2356 non-null object\n",
      "text                          2356 non-null object\n",
      "retweeted_status_id           181 non-null float64\n",
      "retweeted_status_user_id      181 non-null float64\n",
      "retweeted_status_timestamp    181 non-null object\n",
      "expanded_urls                 2297 non-null object\n",
      "rating_numerator              2356 non-null int64\n",
      "rating_denominator            2356 non-null int64\n",
      "name                          2356 non-null object\n",
      "doggo                         2356 non-null object\n",
      "floofer                       2356 non-null object\n",
      "pupper                        2356 non-null object\n",
      "puppo                         2356 non-null object\n",
      "time                          2356 non-null datetime64[ns]\n",
      "dates                         2356 non-null datetime64[ns]\n",
      "jpg_url                       2075 non-null object\n",
      "img_num                       2075 non-null float64\n",
      "p1                            2075 non-null object\n",
      "p1_conf                       2075 non-null float64\n",
      "p1_dog                        2075 non-null object\n",
      "p2                            2075 non-null object\n",
      "p2_conf                       2075 non-null float64\n",
      "p2_dog                        2075 non-null object\n",
      "p3                            2075 non-null object\n",
      "p3_conf                       2075 non-null float64\n",
      "p3_dog                        2075 non-null object\n",
      "dtypes: datetime64[ns](2), float64(8), int64(3), object(16)\n",
      "memory usage: 552.2+ KB\n"
     ]
    }
   ],
   "source": [
    "df_clean.info()"
   ]
  },
  {
   "cell_type": "markdown",
   "metadata": {},
   "source": [
    "## issue #4"
   ]
  },
  {
   "cell_type": "markdown",
   "metadata": {},
   "source": [
    "## define: change names in name column from 'a' to 'al', 'an' to 'ann' and 'by' to byer in df1 table"
   ]
  },
  {
   "cell_type": "markdown",
   "metadata": {},
   "source": [
    "## code"
   ]
  },
  {
   "cell_type": "code",
   "execution_count": 39,
   "metadata": {},
   "outputs": [],
   "source": [
    "df_clean.name = df_clean.name.replace('a', 'al')\n",
    "df_clean.name = df_clean.name.replace('an', 'ann')\n",
    "df_clean.name = df_clean.name.replace('by', 'byer')\n",
    "df_clean.name = df_clean.name.replace('the', 'tim')\n",
    "df_clean.name = df_clean.name.replace('not', 'nott')\n",
    "df_clean.name = df_clean.name.replace('very', 'vic')"
   ]
  },
  {
   "cell_type": "markdown",
   "metadata": {},
   "source": [
    "## test"
   ]
  },
  {
   "cell_type": "code",
   "execution_count": 40,
   "metadata": {},
   "outputs": [
    {
     "data": {
      "text/plain": [
       "1035            Abby\n",
       "1021            Abby\n",
       "938              Ace\n",
       "1933            Acro\n",
       "1327           Adele\n",
       "1934           Aiden\n",
       "77               Aja\n",
       "480            Akumi\n",
       "820               Al\n",
       "875           Albert\n",
       "1954          Albert\n",
       "144            Albus\n",
       "412            Albus\n",
       "1115         Aldrick\n",
       "2046       Alejandro\n",
       "374        Alexander\n",
       "1189    Alexanderson\n",
       "486              Alf\n",
       "2238           Alfie\n",
       "661            Alfie\n",
       "367            Alfie\n",
       "1616           Alfie\n",
       "858            Alfie\n",
       "51              Alfy\n",
       "201            Alice\n",
       "1701           Alice\n",
       "1495           Amber\n",
       "1334         Ambrose\n",
       "2078             Amy\n",
       "2195          Amélie\n",
       "            ...     \n",
       "852               my\n",
       "988             nott\n",
       "335             nott\n",
       "1747      officially\n",
       "1206             old\n",
       "1936             one\n",
       "993              one\n",
       "924              one\n",
       "369              one\n",
       "169            quite\n",
       "193            quite\n",
       "2326           quite\n",
       "118            quite\n",
       "2030           space\n",
       "22              such\n",
       "1120            this\n",
       "1815             tim\n",
       "1603             tim\n",
       "1797             tim\n",
       "2346             tim\n",
       "2037             tim\n",
       "1527             tim\n",
       "2212             tim\n",
       "2345             tim\n",
       "1121    unacceptable\n",
       "773              vic\n",
       "819              vic\n",
       "1031             vic\n",
       "1097             vic\n",
       "1385             vic\n",
       "Name: name, Length: 2356, dtype: object"
      ]
     },
     "execution_count": 40,
     "metadata": {},
     "output_type": "execute_result"
    }
   ],
   "source": [
    "df_clean.name.sort_values()"
   ]
  },
  {
   "cell_type": "markdown",
   "metadata": {},
   "source": [
    "## test## issue #5"
   ]
  },
  {
   "cell_type": "markdown",
   "metadata": {},
   "source": [
    "## define: removing retweets from df_clean table"
   ]
  },
  {
   "cell_type": "markdown",
   "metadata": {},
   "source": [
    "## code"
   ]
  },
  {
   "cell_type": "code",
   "execution_count": 41,
   "metadata": {},
   "outputs": [],
   "source": [
    "\n",
    "#drop any rows that have values in the retweeted_id_status column\n",
    "\n",
    "df_clean.drop(df_clean.index[df_clean['retweeted_status_id'].isnull()== False], inplace= True)\n"
   ]
  },
  {
   "cell_type": "markdown",
   "metadata": {},
   "source": [
    "## test"
   ]
  },
  {
   "cell_type": "code",
   "execution_count": 42,
   "metadata": {},
   "outputs": [
    {
     "name": "stdout",
     "output_type": "stream",
     "text": [
      "<class 'pandas.core.frame.DataFrame'>\n",
      "Int64Index: 2175 entries, 0 to 2355\n",
      "Data columns (total 29 columns):\n",
      "tweet_id                      2175 non-null int64\n",
      "in_reply_to_status_id         78 non-null float64\n",
      "in_reply_to_user_id           78 non-null float64\n",
      "source                        2175 non-null object\n",
      "text                          2175 non-null object\n",
      "retweeted_status_id           0 non-null float64\n",
      "retweeted_status_user_id      0 non-null float64\n",
      "retweeted_status_timestamp    0 non-null object\n",
      "expanded_urls                 2117 non-null object\n",
      "rating_numerator              2175 non-null int64\n",
      "rating_denominator            2175 non-null int64\n",
      "name                          2175 non-null object\n",
      "doggo                         2175 non-null object\n",
      "floofer                       2175 non-null object\n",
      "pupper                        2175 non-null object\n",
      "puppo                         2175 non-null object\n",
      "time                          2175 non-null datetime64[ns]\n",
      "dates                         2175 non-null datetime64[ns]\n",
      "jpg_url                       1994 non-null object\n",
      "img_num                       1994 non-null float64\n",
      "p1                            1994 non-null object\n",
      "p1_conf                       1994 non-null float64\n",
      "p1_dog                        1994 non-null object\n",
      "p2                            1994 non-null object\n",
      "p2_conf                       1994 non-null float64\n",
      "p2_dog                        1994 non-null object\n",
      "p3                            1994 non-null object\n",
      "p3_conf                       1994 non-null float64\n",
      "p3_dog                        1994 non-null object\n",
      "dtypes: datetime64[ns](2), float64(8), int64(3), object(16)\n",
      "memory usage: 509.8+ KB\n"
     ]
    }
   ],
   "source": [
    "df_clean.info()\n"
   ]
  },
  {
   "cell_type": "markdown",
   "metadata": {},
   "source": [
    "## issue #6 "
   ]
  },
  {
   "cell_type": "markdown",
   "metadata": {},
   "source": [
    "## define: remove column with a lot of missing value (in_reply_to_status_id, in_reply_to_user_id, retweeted_status_timestamp)"
   ]
  },
  {
   "cell_type": "markdown",
   "metadata": {},
   "source": [
    "## code"
   ]
  },
  {
   "cell_type": "code",
   "execution_count": 43,
   "metadata": {},
   "outputs": [],
   "source": [
    "df_clean = df_clean.drop(['in_reply_to_status_id','in_reply_to_user_id','retweeted_status_id',\n",
    "                          'retweeted_status_user_id', \n",
    "                          'retweeted_status_timestamp'], \n",
    "                         axis=1)"
   ]
  },
  {
   "cell_type": "markdown",
   "metadata": {},
   "source": [
    "## test"
   ]
  },
  {
   "cell_type": "code",
   "execution_count": 44,
   "metadata": {},
   "outputs": [
    {
     "name": "stdout",
     "output_type": "stream",
     "text": [
      "<class 'pandas.core.frame.DataFrame'>\n",
      "Int64Index: 2175 entries, 0 to 2355\n",
      "Data columns (total 24 columns):\n",
      "tweet_id              2175 non-null int64\n",
      "source                2175 non-null object\n",
      "text                  2175 non-null object\n",
      "expanded_urls         2117 non-null object\n",
      "rating_numerator      2175 non-null int64\n",
      "rating_denominator    2175 non-null int64\n",
      "name                  2175 non-null object\n",
      "doggo                 2175 non-null object\n",
      "floofer               2175 non-null object\n",
      "pupper                2175 non-null object\n",
      "puppo                 2175 non-null object\n",
      "time                  2175 non-null datetime64[ns]\n",
      "dates                 2175 non-null datetime64[ns]\n",
      "jpg_url               1994 non-null object\n",
      "img_num               1994 non-null float64\n",
      "p1                    1994 non-null object\n",
      "p1_conf               1994 non-null float64\n",
      "p1_dog                1994 non-null object\n",
      "p2                    1994 non-null object\n",
      "p2_conf               1994 non-null float64\n",
      "p2_dog                1994 non-null object\n",
      "p3                    1994 non-null object\n",
      "p3_conf               1994 non-null float64\n",
      "p3_dog                1994 non-null object\n",
      "dtypes: datetime64[ns](2), float64(4), int64(3), object(15)\n",
      "memory usage: 424.8+ KB\n"
     ]
    }
   ],
   "source": [
    "df_clean.info()"
   ]
  },
  {
   "cell_type": "markdown",
   "metadata": {},
   "source": [
    "## issue #7"
   ]
  },
  {
   "cell_type": "markdown",
   "metadata": {},
   "source": [
    "## define: set all values of rating_denominator to 10"
   ]
  },
  {
   "cell_type": "markdown",
   "metadata": {},
   "source": [
    "## code"
   ]
  },
  {
   "cell_type": "code",
   "execution_count": 45,
   "metadata": {},
   "outputs": [],
   "source": [
    "df_clean['rating_denominator'] =  '10'"
   ]
  },
  {
   "cell_type": "markdown",
   "metadata": {},
   "source": [
    "## test"
   ]
  },
  {
   "cell_type": "code",
   "execution_count": 46,
   "metadata": {},
   "outputs": [
    {
     "data": {
      "text/plain": [
       "0       10\n",
       "1637    10\n",
       "1636    10\n",
       "1635    10\n",
       "1634    10\n",
       "1633    10\n",
       "1632    10\n",
       "1631    10\n",
       "1630    10\n",
       "1629    10\n",
       "1628    10\n",
       "1627    10\n",
       "1626    10\n",
       "1625    10\n",
       "1624    10\n",
       "1638    10\n",
       "1623    10\n",
       "1621    10\n",
       "1620    10\n",
       "1619    10\n",
       "1618    10\n",
       "1617    10\n",
       "1616    10\n",
       "1615    10\n",
       "1614    10\n",
       "1613    10\n",
       "1612    10\n",
       "1611    10\n",
       "1610    10\n",
       "1609    10\n",
       "        ..\n",
       "913     10\n",
       "912     10\n",
       "910     10\n",
       "909     10\n",
       "907     10\n",
       "906     10\n",
       "905     10\n",
       "904     10\n",
       "903     10\n",
       "902     10\n",
       "901     10\n",
       "900     10\n",
       "879     10\n",
       "899     10\n",
       "897     10\n",
       "896     10\n",
       "894     10\n",
       "893     10\n",
       "892     10\n",
       "891     10\n",
       "889     10\n",
       "888     10\n",
       "887     10\n",
       "886     10\n",
       "884     10\n",
       "883     10\n",
       "882     10\n",
       "881     10\n",
       "898     10\n",
       "2355    10\n",
       "Name: rating_denominator, Length: 2175, dtype: object"
      ]
     },
     "execution_count": 46,
     "metadata": {},
     "output_type": "execute_result"
    }
   ],
   "source": [
    "df_clean['rating_denominator'].sort_values()"
   ]
  },
  {
   "cell_type": "markdown",
   "metadata": {},
   "source": [
    "## issue #8 "
   ]
  },
  {
   "cell_type": "markdown",
   "metadata": {},
   "source": [
    "## define: change source column in df_clean table to category type, and tweet_id as object\n"
   ]
  },
  {
   "cell_type": "markdown",
   "metadata": {},
   "source": [
    "## code"
   ]
  },
  {
   "cell_type": "code",
   "execution_count": 47,
   "metadata": {},
   "outputs": [],
   "source": [
    "# assigne source as category\n",
    "df_clean.source = df_clean.source.astype('category')\n",
    "\n",
    "# assign tweet_id as object\n",
    "df_clean.tweet_id = df_clean.tweet_id.astype(str)\n",
    "df3_clean.tweet_id = df3_clean.tweet_id.astype(str)"
   ]
  },
  {
   "cell_type": "markdown",
   "metadata": {},
   "source": [
    "## test"
   ]
  },
  {
   "cell_type": "code",
   "execution_count": 48,
   "metadata": {
    "scrolled": true
   },
   "outputs": [
    {
     "name": "stdout",
     "output_type": "stream",
     "text": [
      "<class 'pandas.core.frame.DataFrame'>\n",
      "Int64Index: 2175 entries, 0 to 2355\n",
      "Data columns (total 24 columns):\n",
      "tweet_id              2175 non-null object\n",
      "source                2175 non-null category\n",
      "text                  2175 non-null object\n",
      "expanded_urls         2117 non-null object\n",
      "rating_numerator      2175 non-null int64\n",
      "rating_denominator    2175 non-null object\n",
      "name                  2175 non-null object\n",
      "doggo                 2175 non-null object\n",
      "floofer               2175 non-null object\n",
      "pupper                2175 non-null object\n",
      "puppo                 2175 non-null object\n",
      "time                  2175 non-null datetime64[ns]\n",
      "dates                 2175 non-null datetime64[ns]\n",
      "jpg_url               1994 non-null object\n",
      "img_num               1994 non-null float64\n",
      "p1                    1994 non-null object\n",
      "p1_conf               1994 non-null float64\n",
      "p1_dog                1994 non-null object\n",
      "p2                    1994 non-null object\n",
      "p2_conf               1994 non-null float64\n",
      "p2_dog                1994 non-null object\n",
      "p3                    1994 non-null object\n",
      "p3_conf               1994 non-null float64\n",
      "p3_dog                1994 non-null object\n",
      "dtypes: category(1), datetime64[ns](2), float64(4), int64(1), object(16)\n",
      "memory usage: 410.1+ KB\n"
     ]
    }
   ],
   "source": [
    "df_clean.info()"
   ]
  },
  {
   "cell_type": "code",
   "execution_count": 49,
   "metadata": {},
   "outputs": [
    {
     "name": "stdout",
     "output_type": "stream",
     "text": [
      "<class 'pandas.core.frame.DataFrame'>\n",
      "Int64Index: 3000 entries, 0 to 999\n",
      "Data columns (total 3 columns):\n",
      "tweet_id          3000 non-null object\n",
      "retweet count     3000 non-null int64\n",
      "favorite count    3000 non-null int64\n",
      "dtypes: int64(2), object(1)\n",
      "memory usage: 93.8+ KB\n"
     ]
    }
   ],
   "source": [
    "df3_clean.info()"
   ]
  },
  {
   "cell_type": "markdown",
   "metadata": {},
   "source": [
    "## issue #9"
   ]
  },
  {
   "cell_type": "markdown",
   "metadata": {},
   "source": [
    "## define: remove outlier values of rating numerator"
   ]
  },
  {
   "cell_type": "markdown",
   "metadata": {},
   "source": [
    "## code"
   ]
  },
  {
   "cell_type": "code",
   "execution_count": 58,
   "metadata": {},
   "outputs": [],
   "source": [
    "\n",
    "# droping outlier values\n",
    "df_clean.drop(df_clean.index[df_clean.rating_numerator >= 60], inplace = True)\n",
    "\n"
   ]
  },
  {
   "cell_type": "markdown",
   "metadata": {},
   "source": [
    "## test"
   ]
  },
  {
   "cell_type": "code",
   "execution_count": 59,
   "metadata": {},
   "outputs": [
    {
     "data": {
      "text/plain": [
       "315      0\n",
       "1016     0\n",
       "2091     1\n",
       "2038     1\n",
       "1446     1\n",
       "2261     1\n",
       "1940     1\n",
       "1869     1\n",
       "2338     1\n",
       "2335     1\n",
       "2310     2\n",
       "2326     2\n",
       "1920     2\n",
       "2079     2\n",
       "2246     2\n",
       "2237     2\n",
       "2349     2\n",
       "1761     2\n",
       "1764     2\n",
       "1406     3\n",
       "1601     3\n",
       "1249     3\n",
       "1314     3\n",
       "765      3\n",
       "1692     3\n",
       "2305     3\n",
       "2239     3\n",
       "2334     3\n",
       "1836     3\n",
       "1189     3\n",
       "        ..\n",
       "1053    14\n",
       "56      14\n",
       "83      14\n",
       "41      14\n",
       "110     14\n",
       "924     14\n",
       "64      14\n",
       "187     14\n",
       "214     14\n",
       "209     14\n",
       "35      14\n",
       "347     14\n",
       "1605    14\n",
       "1609    14\n",
       "448     14\n",
       "117     14\n",
       "758     14\n",
       "339     14\n",
       "533     14\n",
       "199     14\n",
       "490     14\n",
       "788     14\n",
       "291     15\n",
       "55      17\n",
       "1663    20\n",
       "516     24\n",
       "1712    26\n",
       "763     27\n",
       "1274    45\n",
       "1202    50\n",
       "Name: rating_numerator, Length: 2087, dtype: int64"
      ]
     },
     "execution_count": 59,
     "metadata": {},
     "output_type": "execute_result"
    }
   ],
   "source": [
    "df_clean.rating_numerator.sort_values()"
   ]
  },
  {
   "cell_type": "markdown",
   "metadata": {},
   "source": [
    "## issue 10"
   ]
  },
  {
   "cell_type": "markdown",
   "metadata": {},
   "source": [
    "## remove the prefix '<a' from source column"
   ]
  },
  {
   "cell_type": "markdown",
   "metadata": {},
   "source": [
    "## code"
   ]
  },
  {
   "cell_type": "code",
   "execution_count": 60,
   "metadata": {},
   "outputs": [],
   "source": [
    "df_clean.source = df_clean.source.str.strip('<a').astype('category')\n"
   ]
  },
  {
   "cell_type": "markdown",
   "metadata": {},
   "source": [
    "## test"
   ]
  },
  {
   "cell_type": "code",
   "execution_count": 61,
   "metadata": {},
   "outputs": [
    {
     "data": {
      "text/plain": [
       "0     href=\"http://twitter.com/download/iphone\" rel...\n",
       "1     href=\"http://twitter.com/download/iphone\" rel...\n",
       "2     href=\"http://twitter.com/download/iphone\" rel...\n",
       "3     href=\"http://twitter.com/download/iphone\" rel...\n",
       "4     href=\"http://twitter.com/download/iphone\" rel...\n",
       "Name: source, dtype: category\n",
       "Categories (4, object): [href=\"http://twitter.com\" rel=\"nofollow\">Twit..., href=\"http://twitter.com/download/iphone\" rel..., href=\"http://vine.co\" rel=\"nofollow\">Vine - M..., href=\"https://about.twitter.com/products/twee...]"
      ]
     },
     "execution_count": 61,
     "metadata": {},
     "output_type": "execute_result"
    }
   ],
   "source": [
    "df_clean.source.head()"
   ]
  },
  {
   "cell_type": "markdown",
   "metadata": {},
   "source": [
    "## Storing Data\n",
    "Save gathered, assessed, and cleaned master dataset to a CSV file named \"twitter_archive_master.csv\"."
   ]
  },
  {
   "cell_type": "code",
   "execution_count": 62,
   "metadata": {},
   "outputs": [],
   "source": [
    "# saving the tables into two csv files\n",
    "df_clean.to_csv(\"twitter_archive_master.csv\", index=False)\n",
    "df3_clean.to_csv(\"twitter_archive_master_3.csv\", index=False)\n"
   ]
  },
  {
   "cell_type": "markdown",
   "metadata": {},
   "source": [
    "## Analyzing and Visualizing Data\n",
    "In this section, analyze and visualize your wrangled data. You must produce at least **three (3) insights and one (1) visualization.**"
   ]
  },
  {
   "cell_type": "code",
   "execution_count": 63,
   "metadata": {},
   "outputs": [],
   "source": [
    "# reading the dataframe from csv\n",
    "df1 = pd.read_csv(\"twitter_archive_master.csv\")\n",
    "df2 = pd.read_csv('twitter_archive_master_3.csv')"
   ]
  },
  {
   "cell_type": "code",
   "execution_count": 64,
   "metadata": {},
   "outputs": [
    {
     "name": "stdout",
     "output_type": "stream",
     "text": [
      "<class 'pandas.core.frame.DataFrame'>\n",
      "RangeIndex: 2087 entries, 0 to 2086\n",
      "Data columns (total 24 columns):\n",
      "tweet_id              2087 non-null int64\n",
      "source                2087 non-null object\n",
      "text                  2087 non-null object\n",
      "expanded_urls         2039 non-null object\n",
      "rating_numerator      2087 non-null int64\n",
      "rating_denominator    2087 non-null int64\n",
      "name                  2087 non-null object\n",
      "doggo                 2087 non-null object\n",
      "floofer               2087 non-null object\n",
      "pupper                2087 non-null object\n",
      "puppo                 2087 non-null object\n",
      "time                  2087 non-null object\n",
      "dates                 2087 non-null object\n",
      "jpg_url               1918 non-null object\n",
      "img_num               1918 non-null float64\n",
      "p1                    1918 non-null object\n",
      "p1_conf               1918 non-null float64\n",
      "p1_dog                1918 non-null object\n",
      "p2                    1918 non-null object\n",
      "p2_conf               1918 non-null float64\n",
      "p2_dog                1918 non-null object\n",
      "p3                    1918 non-null object\n",
      "p3_conf               1918 non-null float64\n",
      "p3_dog                1918 non-null object\n",
      "dtypes: float64(4), int64(3), object(17)\n",
      "memory usage: 391.4+ KB\n"
     ]
    }
   ],
   "source": [
    "df1.info()"
   ]
  },
  {
   "cell_type": "code",
   "execution_count": 65,
   "metadata": {},
   "outputs": [
    {
     "name": "stdout",
     "output_type": "stream",
     "text": [
      "<class 'pandas.core.frame.DataFrame'>\n",
      "RangeIndex: 3000 entries, 0 to 2999\n",
      "Data columns (total 3 columns):\n",
      "tweet_id          3000 non-null int64\n",
      "retweet count     3000 non-null int64\n",
      "favorite count    3000 non-null int64\n",
      "dtypes: int64(3)\n",
      "memory usage: 70.4 KB\n"
     ]
    }
   ],
   "source": [
    "df2.info()\n"
   ]
  },
  {
   "cell_type": "code",
   "execution_count": 67,
   "metadata": {},
   "outputs": [
    {
     "data": {
      "text/plain": [
       " href=\"http://twitter.com/download/iphone\" rel=\"nofollow\">Twitter for iPhone</a>     1960\n",
       " href=\"http://vine.co\" rel=\"nofollow\">Vine - Make a Scene</a>                          89\n",
       " href=\"http://twitter.com\" rel=\"nofollow\">Twitter Web Client</a>                       28\n",
       " href=\"https://about.twitter.com/products/tweetdeck\" rel=\"nofollow\">TweetDeck</a>      10\n",
       "Name: source, dtype: int64"
      ]
     },
     "execution_count": 67,
     "metadata": {},
     "output_type": "execute_result"
    }
   ],
   "source": [
    "df1.source.value_counts()"
   ]
  },
  {
   "cell_type": "code",
   "execution_count": 82,
   "metadata": {},
   "outputs": [
    {
     "data": {
      "text/plain": [
       "doggo\n",
       "None     10.617074\n",
       "doggo    11.726190\n",
       "Name: rating_numerator, dtype: float64"
      ]
     },
     "execution_count": 82,
     "metadata": {},
     "output_type": "execute_result"
    }
   ],
   "source": [
    "df1.groupby('doggo')['rating_numerator'].mean()"
   ]
  },
  {
   "cell_type": "code",
   "execution_count": 80,
   "metadata": {},
   "outputs": [
    {
     "data": {
      "text/plain": [
       "puppo\n",
       "None     10.64452\n",
       "puppo    12.08000\n",
       "Name: rating_numerator, dtype: float64"
      ]
     },
     "execution_count": 80,
     "metadata": {},
     "output_type": "execute_result"
    }
   ],
   "source": [
    "df1.groupby('puppo')['rating_numerator'].mean()"
   ]
  },
  {
   "cell_type": "code",
   "execution_count": 79,
   "metadata": {},
   "outputs": [
    {
     "data": {
      "text/plain": [
       "pupper\n",
       "None      10.643278\n",
       "pupper    10.818182\n",
       "Name: rating_numerator, dtype: float64"
      ]
     },
     "execution_count": 79,
     "metadata": {},
     "output_type": "execute_result"
    }
   ],
   "source": [
    "df1.groupby('pupper')['rating_numerator'].mean()"
   ]
  },
  {
   "cell_type": "code",
   "execution_count": 81,
   "metadata": {},
   "outputs": [
    {
     "data": {
      "text/plain": [
       "floofer\n",
       "None       10.656235\n",
       "floofer    11.800000\n",
       "Name: rating_numerator, dtype: float64"
      ]
     },
     "execution_count": 81,
     "metadata": {},
     "output_type": "execute_result"
    }
   ],
   "source": [
    "df1.groupby('floofer')['rating_numerator'].mean()"
   ]
  },
  {
   "cell_type": "markdown",
   "metadata": {},
   "source": [
    "### Insights:\n",
    "1. there is corelation between retweet count and favorite counts\n",
    "\n",
    "2. majority of sources came from Iphone\n",
    "\n",
    "3. on average dogs with 'puppo' nickname have better numerator rating"
   ]
  },
  {
   "cell_type": "markdown",
   "metadata": {
    "collapsed": true
   },
   "source": [
    "### Visualization"
   ]
  },
  {
   "cell_type": "code",
   "execution_count": 83,
   "metadata": {},
   "outputs": [
    {
     "data": {
      "image/png": "[encoded data removed]",
      "text/plain": [
       "<matplotlib.figure.Figure at 0x7f03f04e9a20>"
      ]
     },
     "metadata": {
      "needs_background": "light"
     },
     "output_type": "display_data"
    }
   ],
   "source": [
    "# ploting scatter graph to show the relationship between retweet and favorite number \n",
    "plt.scatter(x=df2['retweet count'], y=df2['favorite count'], alpha =0.7)\n",
    "plt.xlabel('Retweet counts')\n",
    "plt.ylabel('Favorite counts')\n",
    "plt.title('Distribution: favorite vs retweet');"
   ]
  },
  {
   "cell_type": "code",
   "execution_count": null,
   "metadata": {},
   "outputs": [],
   "source": []
  }
 ],
 "metadata": {
  "extensions": {
   "jupyter_dashboards": {
    "activeView": "report_default",
    "version": 1,
    "views": {
     "grid_default": {
      "cellMargin": 10,
      "defaultCellHeight": 20,
      "maxColumns": 12,
      "name": "grid",
      "type": "grid"
     },
     "report_default": {
      "name": "report",
      "type": "report"
     }
    }
   }
  },
  "kernelspec": {
   "display_name": "Python 3",
   "language": "python",
   "name": "python3"
  },
  "language_info": {
   "codemirror_mode": {
    "name": "ipython",
    "version": 3
   },
   "file_extension": ".py",
   "mimetype": "text/x-python",
   "name": "python",
   "nbconvert_exporter": "python",
   "pygments_lexer": "ipython3",
   "version": "3.6.3"
  }
 },
 "nbformat": 4,
 "nbformat_minor": 2
}
