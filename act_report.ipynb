{
 "cells": [
  {
   "cell_type": "markdown",
   "metadata": {},
   "source": [
    "## Report: act_report\n",
    "* Create a **250-word-minimum written report** called \"act_report.pdf\" or \"act_report.html\" that communicates the insights and displays the visualization(s) produced from your wrangled data. This is to be framed as an external document, like a blog post or magazine article, for example."
   ]
  },
  {
   "cell_type": "markdown",
   "metadata": {},
   "source": [
    "This report contain data analysis that is gathered from different source about weratedogs twitter account. Before analysis was performed the data were properly collected, assessed and cleaned. Furthermore, the tables were merged and prepared in the way that eases the data analysis process. The various data anlysis mechanism were deployed to thoroughly inspect, examine and analyze the data. From this analysis some valuable insights were gained about the data. for now, only the 3 main insights will be discussed here. first, the number of retweets were positively correlated with number of likes(favorite). This gives the insight that most liked tweets are highly likely to be retweeted. This insights is visualized in the report using scatter plot with number of favorite on y axis and number of retweet on x axis. The graph shows clear positive correlation between the number of favorites and retweets. AS the trend follows striaght line that runs diagonaly from the left lower corner to the right upper corner. quantitave nature of the both varaibles suited the scatter choice the plot. The second insight was that the overwhelmimg number of sources came from Iphone. this might suggest majority of this page followers are Iphone users. and also raise a question if whether there is a relationship between Iphone users and dog lovers. The third insight was that the nickname puppo is associated with higher numerator rating. This might suggest that most liked dog have high likely hood to be called puppo. It is appartent that the insights require furhter deep study into the matter before clearly understanding the pattern."
   ]
  }
 ],
 "metadata": {
  "kernelspec": {
   "display_name": "Python 3",
   "language": "python",
   "name": "python3"
  },
  "language_info": {
   "codemirror_mode": {
    "name": "ipython",
    "version": 3
   },
   "file_extension": ".py",
   "mimetype": "text/x-python",
   "name": "python",
   "nbconvert_exporter": "python",
   "pygments_lexer": "ipython3",
   "version": "3.6.3"
  }
 },
 "nbformat": 4,
 "nbformat_minor": 2
}
